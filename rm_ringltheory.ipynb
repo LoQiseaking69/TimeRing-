{
  "nbformat": 4,
  "nbformat_minor": 0,
  "metadata": {
    "colab": {
      "provenance": [],
      "authorship_tag": "ABX9TyNks0LHz2K6stoQqSz2uY7z",
      "include_colab_link": true
    },
    "kernelspec": {
      "name": "python3",
      "display_name": "Python 3"
    },
    "language_info": {
      "name": "python"
    },
    "widgets": {
      "application/vnd.jupyter.widget-state+json": {
        "e4802d746cf14d1d8efd54c9f1675c25": {
          "model_module": "@jupyter-widgets/controls",
          "model_name": "VBoxModel",
          "model_module_version": "1.5.0",
          "state": {
            "_dom_classes": [
              "widget-interact"
            ],
            "_model_module": "@jupyter-widgets/controls",
            "_model_module_version": "1.5.0",
            "_model_name": "VBoxModel",
            "_view_count": null,
            "_view_module": "@jupyter-widgets/controls",
            "_view_module_version": "1.5.0",
            "_view_name": "VBoxView",
            "box_style": "",
            "children": [
              "IPY_MODEL_e85c6d7a1afb4dff80a6e547ad76c713",
              "IPY_MODEL_5bf55ab86cce4a3f8aa6db5d300e908e",
              "IPY_MODEL_39a9f98b1b4d46b6b80675d6bbb7501d",
              "IPY_MODEL_058063d6a64b473ca5c292b9e7f64edb",
              "IPY_MODEL_a29d0a572673489bbebe56c3efedd9e1"
            ],
            "layout": "IPY_MODEL_2cdab012fce5445796fd973a4b1e373c"
          }
        },
        "e85c6d7a1afb4dff80a6e547ad76c713": {
          "model_module": "@jupyter-widgets/controls",
          "model_name": "FloatSliderModel",
          "model_module_version": "1.5.0",
          "state": {
            "_dom_classes": [],
            "_model_module": "@jupyter-widgets/controls",
            "_model_module_version": "1.5.0",
            "_model_name": "FloatSliderModel",
            "_view_count": null,
            "_view_module": "@jupyter-widgets/controls",
            "_view_module_version": "1.5.0",
            "_view_name": "FloatSliderView",
            "continuous_update": true,
            "description": "Laser Energy:",
            "description_tooltip": null,
            "disabled": false,
            "layout": "IPY_MODEL_fd512bfca3c74382bd2503993210b064",
            "max": 1000000,
            "min": 0,
            "orientation": "horizontal",
            "readout": true,
            "readout_format": ".2f",
            "step": 1,
            "style": "IPY_MODEL_3c405cff318a4697bba0d3aacb1af912",
            "value": 100000
          }
        },
        "5bf55ab86cce4a3f8aa6db5d300e908e": {
          "model_module": "@jupyter-widgets/controls",
          "model_name": "FloatSliderModel",
          "model_module_version": "1.5.0",
          "state": {
            "_dom_classes": [],
            "_model_module": "@jupyter-widgets/controls",
            "_model_module_version": "1.5.0",
            "_model_name": "FloatSliderModel",
            "_view_count": null,
            "_view_module": "@jupyter-widgets/controls",
            "_view_module_version": "1.5.0",
            "_view_name": "FloatSliderView",
            "continuous_update": true,
            "description": "Laser Radius:",
            "description_tooltip": null,
            "disabled": false,
            "layout": "IPY_MODEL_3abbc3dc100e4c2b8e52b687e153e3bd",
            "max": 1000000,
            "min": 0,
            "orientation": "horizontal",
            "readout": true,
            "readout_format": ".2f",
            "step": 1,
            "style": "IPY_MODEL_f518486fac0745298f135af24863c543",
            "value": 100000
          }
        },
        "39a9f98b1b4d46b6b80675d6bbb7501d": {
          "model_module": "@jupyter-widgets/controls",
          "model_name": "FloatSliderModel",
          "model_module_version": "1.5.0",
          "state": {
            "_dom_classes": [],
            "_model_module": "@jupyter-widgets/controls",
            "_model_module_version": "1.5.0",
            "_model_name": "FloatSliderModel",
            "_view_count": null,
            "_view_module": "@jupyter-widgets/controls",
            "_view_module_version": "1.5.0",
            "_view_name": "FloatSliderView",
            "continuous_update": true,
            "description": "Angular Momentum:",
            "description_tooltip": null,
            "disabled": false,
            "layout": "IPY_MODEL_50b4d9e4cb57424faca309f25fc070e9",
            "max": 1000000,
            "min": 0,
            "orientation": "horizontal",
            "readout": true,
            "readout_format": ".2f",
            "step": 1,
            "style": "IPY_MODEL_d4bddb23237643409fc43b632c298939",
            "value": 100000
          }
        },
        "058063d6a64b473ca5c292b9e7f64edb": {
          "model_module": "@jupyter-widgets/controls",
          "model_name": "FloatSliderModel",
          "model_module_version": "1.5.0",
          "state": {
            "_dom_classes": [],
            "_model_module": "@jupyter-widgets/controls",
            "_model_module_version": "1.5.0",
            "_model_name": "FloatSliderModel",
            "_view_count": null,
            "_view_module": "@jupyter-widgets/controls",
            "_view_module_version": "1.5.0",
            "_view_name": "FloatSliderView",
            "continuous_update": true,
            "description": "Pulse Duration:",
            "description_tooltip": null,
            "disabled": false,
            "layout": "IPY_MODEL_7bf3e6b886114d0387ea6f0938004280",
            "max": 1000000,
            "min": 0,
            "orientation": "horizontal",
            "readout": true,
            "readout_format": ".2f",
            "step": 1,
            "style": "IPY_MODEL_1f4c4c0f206546b2923450fc4ef8883f",
            "value": 100000
          }
        },
        "a29d0a572673489bbebe56c3efedd9e1": {
          "model_module": "@jupyter-widgets/output",
          "model_name": "OutputModel",
          "model_module_version": "1.0.0",
          "state": {
            "_dom_classes": [],
            "_model_module": "@jupyter-widgets/output",
            "_model_module_version": "1.0.0",
            "_model_name": "OutputModel",
            "_view_count": null,
            "_view_module": "@jupyter-widgets/output",
            "_view_module_version": "1.0.0",
            "_view_name": "OutputView",
            "layout": "IPY_MODEL_16cc838da00a433aa371a7bd01fa3d31",
            "msg_id": "",
            "outputs": []
          }
        },
        "2cdab012fce5445796fd973a4b1e373c": {
          "model_module": "@jupyter-widgets/base",
          "model_name": "LayoutModel",
          "model_module_version": "1.2.0",
          "state": {
            "_model_module": "@jupyter-widgets/base",
            "_model_module_version": "1.2.0",
            "_model_name": "LayoutModel",
            "_view_count": null,
            "_view_module": "@jupyter-widgets/base",
            "_view_module_version": "1.2.0",
            "_view_name": "LayoutView",
            "align_content": null,
            "align_items": null,
            "align_self": null,
            "border": null,
            "bottom": null,
            "display": null,
            "flex": null,
            "flex_flow": null,
            "grid_area": null,
            "grid_auto_columns": null,
            "grid_auto_flow": null,
            "grid_auto_rows": null,
            "grid_column": null,
            "grid_gap": null,
            "grid_row": null,
            "grid_template_areas": null,
            "grid_template_columns": null,
            "grid_template_rows": null,
            "height": null,
            "justify_content": null,
            "justify_items": null,
            "left": null,
            "margin": null,
            "max_height": null,
            "max_width": null,
            "min_height": null,
            "min_width": null,
            "object_fit": null,
            "object_position": null,
            "order": null,
            "overflow": null,
            "overflow_x": null,
            "overflow_y": null,
            "padding": null,
            "right": null,
            "top": null,
            "visibility": null,
            "width": null
          }
        },
        "fd512bfca3c74382bd2503993210b064": {
          "model_module": "@jupyter-widgets/base",
          "model_name": "LayoutModel",
          "model_module_version": "1.2.0",
          "state": {
            "_model_module": "@jupyter-widgets/base",
            "_model_module_version": "1.2.0",
            "_model_name": "LayoutModel",
            "_view_count": null,
            "_view_module": "@jupyter-widgets/base",
            "_view_module_version": "1.2.0",
            "_view_name": "LayoutView",
            "align_content": null,
            "align_items": null,
            "align_self": null,
            "border": null,
            "bottom": null,
            "display": null,
            "flex": null,
            "flex_flow": null,
            "grid_area": null,
            "grid_auto_columns": null,
            "grid_auto_flow": null,
            "grid_auto_rows": null,
            "grid_column": null,
            "grid_gap": null,
            "grid_row": null,
            "grid_template_areas": null,
            "grid_template_columns": null,
            "grid_template_rows": null,
            "height": null,
            "justify_content": null,
            "justify_items": null,
            "left": null,
            "margin": null,
            "max_height": null,
            "max_width": null,
            "min_height": null,
            "min_width": null,
            "object_fit": null,
            "object_position": null,
            "order": null,
            "overflow": null,
            "overflow_x": null,
            "overflow_y": null,
            "padding": null,
            "right": null,
            "top": null,
            "visibility": null,
            "width": null
          }
        },
        "3c405cff318a4697bba0d3aacb1af912": {
          "model_module": "@jupyter-widgets/controls",
          "model_name": "SliderStyleModel",
          "model_module_version": "1.5.0",
          "state": {
            "_model_module": "@jupyter-widgets/controls",
            "_model_module_version": "1.5.0",
            "_model_name": "SliderStyleModel",
            "_view_count": null,
            "_view_module": "@jupyter-widgets/base",
            "_view_module_version": "1.2.0",
            "_view_name": "StyleView",
            "description_width": "",
            "handle_color": null
          }
        },
        "3abbc3dc100e4c2b8e52b687e153e3bd": {
          "model_module": "@jupyter-widgets/base",
          "model_name": "LayoutModel",
          "model_module_version": "1.2.0",
          "state": {
            "_model_module": "@jupyter-widgets/base",
            "_model_module_version": "1.2.0",
            "_model_name": "LayoutModel",
            "_view_count": null,
            "_view_module": "@jupyter-widgets/base",
            "_view_module_version": "1.2.0",
            "_view_name": "LayoutView",
            "align_content": null,
            "align_items": null,
            "align_self": null,
            "border": null,
            "bottom": null,
            "display": null,
            "flex": null,
            "flex_flow": null,
            "grid_area": null,
            "grid_auto_columns": null,
            "grid_auto_flow": null,
            "grid_auto_rows": null,
            "grid_column": null,
            "grid_gap": null,
            "grid_row": null,
            "grid_template_areas": null,
            "grid_template_columns": null,
            "grid_template_rows": null,
            "height": null,
            "justify_content": null,
            "justify_items": null,
            "left": null,
            "margin": null,
            "max_height": null,
            "max_width": null,
            "min_height": null,
            "min_width": null,
            "object_fit": null,
            "object_position": null,
            "order": null,
            "overflow": null,
            "overflow_x": null,
            "overflow_y": null,
            "padding": null,
            "right": null,
            "top": null,
            "visibility": null,
            "width": null
          }
        },
        "f518486fac0745298f135af24863c543": {
          "model_module": "@jupyter-widgets/controls",
          "model_name": "SliderStyleModel",
          "model_module_version": "1.5.0",
          "state": {
            "_model_module": "@jupyter-widgets/controls",
            "_model_module_version": "1.5.0",
            "_model_name": "SliderStyleModel",
            "_view_count": null,
            "_view_module": "@jupyter-widgets/base",
            "_view_module_version": "1.2.0",
            "_view_name": "StyleView",
            "description_width": "",
            "handle_color": null
          }
        },
        "50b4d9e4cb57424faca309f25fc070e9": {
          "model_module": "@jupyter-widgets/base",
          "model_name": "LayoutModel",
          "model_module_version": "1.2.0",
          "state": {
            "_model_module": "@jupyter-widgets/base",
            "_model_module_version": "1.2.0",
            "_model_name": "LayoutModel",
            "_view_count": null,
            "_view_module": "@jupyter-widgets/base",
            "_view_module_version": "1.2.0",
            "_view_name": "LayoutView",
            "align_content": null,
            "align_items": null,
            "align_self": null,
            "border": null,
            "bottom": null,
            "display": null,
            "flex": null,
            "flex_flow": null,
            "grid_area": null,
            "grid_auto_columns": null,
            "grid_auto_flow": null,
            "grid_auto_rows": null,
            "grid_column": null,
            "grid_gap": null,
            "grid_row": null,
            "grid_template_areas": null,
            "grid_template_columns": null,
            "grid_template_rows": null,
            "height": null,
            "justify_content": null,
            "justify_items": null,
            "left": null,
            "margin": null,
            "max_height": null,
            "max_width": null,
            "min_height": null,
            "min_width": null,
            "object_fit": null,
            "object_position": null,
            "order": null,
            "overflow": null,
            "overflow_x": null,
            "overflow_y": null,
            "padding": null,
            "right": null,
            "top": null,
            "visibility": null,
            "width": null
          }
        },
        "d4bddb23237643409fc43b632c298939": {
          "model_module": "@jupyter-widgets/controls",
          "model_name": "SliderStyleModel",
          "model_module_version": "1.5.0",
          "state": {
            "_model_module": "@jupyter-widgets/controls",
            "_model_module_version": "1.5.0",
            "_model_name": "SliderStyleModel",
            "_view_count": null,
            "_view_module": "@jupyter-widgets/base",
            "_view_module_version": "1.2.0",
            "_view_name": "StyleView",
            "description_width": "",
            "handle_color": null
          }
        },
        "7bf3e6b886114d0387ea6f0938004280": {
          "model_module": "@jupyter-widgets/base",
          "model_name": "LayoutModel",
          "model_module_version": "1.2.0",
          "state": {
            "_model_module": "@jupyter-widgets/base",
            "_model_module_version": "1.2.0",
            "_model_name": "LayoutModel",
            "_view_count": null,
            "_view_module": "@jupyter-widgets/base",
            "_view_module_version": "1.2.0",
            "_view_name": "LayoutView",
            "align_content": null,
            "align_items": null,
            "align_self": null,
            "border": null,
            "bottom": null,
            "display": null,
            "flex": null,
            "flex_flow": null,
            "grid_area": null,
            "grid_auto_columns": null,
            "grid_auto_flow": null,
            "grid_auto_rows": null,
            "grid_column": null,
            "grid_gap": null,
            "grid_row": null,
            "grid_template_areas": null,
            "grid_template_columns": null,
            "grid_template_rows": null,
            "height": null,
            "justify_content": null,
            "justify_items": null,
            "left": null,
            "margin": null,
            "max_height": null,
            "max_width": null,
            "min_height": null,
            "min_width": null,
            "object_fit": null,
            "object_position": null,
            "order": null,
            "overflow": null,
            "overflow_x": null,
            "overflow_y": null,
            "padding": null,
            "right": null,
            "top": null,
            "visibility": null,
            "width": null
          }
        },
        "1f4c4c0f206546b2923450fc4ef8883f": {
          "model_module": "@jupyter-widgets/controls",
          "model_name": "SliderStyleModel",
          "model_module_version": "1.5.0",
          "state": {
            "_model_module": "@jupyter-widgets/controls",
            "_model_module_version": "1.5.0",
            "_model_name": "SliderStyleModel",
            "_view_count": null,
            "_view_module": "@jupyter-widgets/base",
            "_view_module_version": "1.2.0",
            "_view_name": "StyleView",
            "description_width": "",
            "handle_color": null
          }
        },
        "16cc838da00a433aa371a7bd01fa3d31": {
          "model_module": "@jupyter-widgets/base",
          "model_name": "LayoutModel",
          "model_module_version": "1.2.0",
          "state": {
            "_model_module": "@jupyter-widgets/base",
            "_model_module_version": "1.2.0",
            "_model_name": "LayoutModel",
            "_view_count": null,
            "_view_module": "@jupyter-widgets/base",
            "_view_module_version": "1.2.0",
            "_view_name": "LayoutView",
            "align_content": null,
            "align_items": null,
            "align_self": null,
            "border": null,
            "bottom": null,
            "display": null,
            "flex": null,
            "flex_flow": null,
            "grid_area": null,
            "grid_auto_columns": null,
            "grid_auto_flow": null,
            "grid_auto_rows": null,
            "grid_column": null,
            "grid_gap": null,
            "grid_row": null,
            "grid_template_areas": null,
            "grid_template_columns": null,
            "grid_template_rows": null,
            "height": null,
            "justify_content": null,
            "justify_items": null,
            "left": null,
            "margin": null,
            "max_height": null,
            "max_width": null,
            "min_height": null,
            "min_width": null,
            "object_fit": null,
            "object_position": null,
            "order": null,
            "overflow": null,
            "overflow_x": null,
            "overflow_y": null,
            "padding": null,
            "right": null,
            "top": null,
            "visibility": null,
            "width": null
          }
        },
        "0da08185e3ee4fb19d3b202f441af8dc": {
          "model_module": "@jupyter-widgets/controls",
          "model_name": "VBoxModel",
          "model_module_version": "1.5.0",
          "state": {
            "_dom_classes": [],
            "_model_module": "@jupyter-widgets/controls",
            "_model_module_version": "1.5.0",
            "_model_name": "VBoxModel",
            "_view_count": null,
            "_view_module": "@jupyter-widgets/controls",
            "_view_module_version": "1.5.0",
            "_view_name": "VBoxView",
            "box_style": "",
            "children": [
              "IPY_MODEL_adaf0267327444a28d1353057aa422c3"
            ],
            "layout": "IPY_MODEL_4b887165d6e24d0881045290852e06ff"
          }
        },
        "adaf0267327444a28d1353057aa422c3": {
          "model_module": "@jupyter-widgets/output",
          "model_name": "OutputModel",
          "model_module_version": "1.0.0",
          "state": {
            "_dom_classes": [],
            "_model_module": "@jupyter-widgets/output",
            "_model_module_version": "1.0.0",
            "_model_name": "OutputModel",
            "_view_count": null,
            "_view_module": "@jupyter-widgets/output",
            "_view_module_version": "1.0.0",
            "_view_name": "OutputView",
            "layout": "IPY_MODEL_d97d7c69c6504033b0406b0affdfa022",
            "msg_id": "",
            "outputs": [
              {
                "output_type": "stream",
                "name": "stdout",
                "text": [
                  "Adjusted pulse duration: 5.1702434755713565e-15\n"
                ]
              },
              {
                "output_type": "display_data",
                "data": {
                  "text/plain": "<Figure size 1000x600 with 1 Axes>",
                  "image/png": "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\n"
                },
                "metadata": {}
              },
              {
                "output_type": "stream",
                "name": "stdout",
                "text": [
                  "Mean:\n"
                ]
              },
              {
                "output_type": "display_data",
                "data": {
                  "text/plain": "              X             Y             Z\n0 -1.206742e+07  2.826700e+06 -5.395218e+07",
                  "text/html": "\n  <div id=\"df-7bdaf07f-c777-48b7-8560-a14fb46eb984\" class=\"colab-df-container\">\n    <div>\n<style scoped>\n    .dataframe tbody tr th:only-of-type {\n        vertical-align: middle;\n    }\n\n    .dataframe tbody tr th {\n        vertical-align: top;\n    }\n\n    .dataframe thead th {\n        text-align: right;\n    }\n</style>\n<table border=\"1\" class=\"dataframe\">\n  <thead>\n    <tr style=\"text-align: right;\">\n      <th></th>\n      <th>X</th>\n      <th>Y</th>\n      <th>Z</th>\n    </tr>\n  </thead>\n  <tbody>\n    <tr>\n      <th>0</th>\n      <td>-1.206742e+07</td>\n      <td>2.826700e+06</td>\n      <td>-5.395218e+07</td>\n    </tr>\n  </tbody>\n</table>\n</div>\n    <div class=\"colab-df-buttons\">\n\n  <div class=\"colab-df-container\">\n    <button class=\"colab-df-convert\" onclick=\"convertToInteractive('df-7bdaf07f-c777-48b7-8560-a14fb46eb984')\"\n            title=\"Convert this dataframe to an interactive table.\"\n            style=\"display:none;\">\n\n  <svg xmlns=\"http://www.w3.org/2000/svg\" height=\"24px\" viewBox=\"0 -960 960 960\">\n    <path d=\"M120-120v-720h720v720H120Zm60-500h600v-160H180v160Zm220 220h160v-160H400v160Zm0 220h160v-160H400v160ZM180-400h160v-160H180v160Zm440 0h160v-160H620v160ZM180-180h160v-160H180v160Zm440 0h160v-160H620v160Z\"/>\n  </svg>\n    </button>\n\n  <style>\n    .colab-df-container {\n      display:flex;\n      gap: 12px;\n    }\n\n    .colab-df-convert {\n      background-color: #E8F0FE;\n      border: none;\n      border-radius: 50%;\n      cursor: pointer;\n      display: none;\n      fill: #1967D2;\n      height: 32px;\n      padding: 0 0 0 0;\n      width: 32px;\n    }\n\n    .colab-df-convert:hover {\n      background-color: #E2EBFA;\n      box-shadow: 0px 1px 2px rgba(60, 64, 67, 0.3), 0px 1px 3px 1px rgba(60, 64, 67, 0.15);\n      fill: #174EA6;\n    }\n\n    .colab-df-buttons div {\n      margin-bottom: 4px;\n    }\n\n    [theme=dark] .colab-df-convert {\n      background-color: #3B4455;\n      fill: #D2E3FC;\n    }\n\n    [theme=dark] .colab-df-convert:hover {\n      background-color: #434B5C;\n      box-shadow: 0px 1px 3px 1px rgba(0, 0, 0, 0.15);\n      filter: drop-shadow(0px 1px 2px rgba(0, 0, 0, 0.3));\n      fill: #FFFFFF;\n    }\n  </style>\n\n    <script>\n      const buttonEl =\n        document.querySelector('#df-7bdaf07f-c777-48b7-8560-a14fb46eb984 button.colab-df-convert');\n      buttonEl.style.display =\n        google.colab.kernel.accessAllowed ? 'block' : 'none';\n\n      async function convertToInteractive(key) {\n        const element = document.querySelector('#df-7bdaf07f-c777-48b7-8560-a14fb46eb984');\n        const dataTable =\n          await google.colab.kernel.invokeFunction('convertToInteractive',\n                                                    [key], {});\n        if (!dataTable) return;\n\n        const docLinkHtml = 'Like what you see? Visit the ' +\n          '<a target=\"_blank\" href=https://colab.research.google.com/notebooks/data_table.ipynb>data table notebook</a>'\n          + ' to learn more about interactive tables.';\n        element.innerHTML = '';\n        dataTable['output_type'] = 'display_data';\n        await google.colab.output.renderOutput(dataTable, element);\n        const docLink = document.createElement('div');\n        docLink.innerHTML = docLinkHtml;\n        element.appendChild(docLink);\n      }\n    </script>\n  </div>\n\n\n    </div>\n  </div>\n",
                  "application/vnd.google.colaboratory.intrinsic+json": {
                    "type": "dataframe",
                    "summary": "{\n  \"name\": \"    viewer\",\n  \"rows\": 1,\n  \"fields\": [\n    {\n      \"column\": \"X\",\n      \"properties\": {\n        \"dtype\": \"number\",\n        \"std\": null,\n        \"min\": -12067415.73546984,\n        \"max\": -12067415.73546984,\n        \"num_unique_values\": 1,\n        \"samples\": [\n          -12067415.73546984\n        ],\n        \"semantic_type\": \"\",\n        \"description\": \"\"\n      }\n    },\n    {\n      \"column\": \"Y\",\n      \"properties\": {\n        \"dtype\": \"number\",\n        \"std\": null,\n        \"min\": 2826699.9077904117,\n        \"max\": 2826699.9077904117,\n        \"num_unique_values\": 1,\n        \"samples\": [\n          2826699.9077904117\n        ],\n        \"semantic_type\": \"\",\n        \"description\": \"\"\n      }\n    },\n    {\n      \"column\": \"Z\",\n      \"properties\": {\n        \"dtype\": \"number\",\n        \"std\": null,\n        \"min\": -53952181.0553557,\n        \"max\": -53952181.0553557,\n        \"num_unique_values\": 1,\n        \"samples\": [\n          -53952181.0553557\n        ],\n        \"semantic_type\": \"\",\n        \"description\": \"\"\n      }\n    }\n  ]\n}"
                  }
                },
                "metadata": {}
              },
              {
                "output_type": "stream",
                "name": "stdout",
                "text": [
                  "\n",
                  "\n",
                  "Standard Deviation:\n"
                ]
              },
              {
                "output_type": "display_data",
                "data": {
                  "text/plain": "              X             Y             Z\n0  5.684427e+08  6.173116e+08  5.754162e+08",
                  "text/html": "\n  <div id=\"df-930f25b4-fb52-4b1e-81a3-e8c39a0233ca\" class=\"colab-df-container\">\n    <div>\n<style scoped>\n    .dataframe tbody tr th:only-of-type {\n        vertical-align: middle;\n    }\n\n    .dataframe tbody tr th {\n        vertical-align: top;\n    }\n\n    .dataframe thead th {\n        text-align: right;\n    }\n</style>\n<table border=\"1\" class=\"dataframe\">\n  <thead>\n    <tr style=\"text-align: right;\">\n      <th></th>\n      <th>X</th>\n      <th>Y</th>\n      <th>Z</th>\n    </tr>\n  </thead>\n  <tbody>\n    <tr>\n      <th>0</th>\n      <td>5.684427e+08</td>\n      <td>6.173116e+08</td>\n      <td>5.754162e+08</td>\n    </tr>\n  </tbody>\n</table>\n</div>\n    <div class=\"colab-df-buttons\">\n\n  <div class=\"colab-df-container\">\n    <button class=\"colab-df-convert\" onclick=\"convertToInteractive('df-930f25b4-fb52-4b1e-81a3-e8c39a0233ca')\"\n            title=\"Convert this dataframe to an interactive table.\"\n            style=\"display:none;\">\n\n  <svg xmlns=\"http://www.w3.org/2000/svg\" height=\"24px\" viewBox=\"0 -960 960 960\">\n    <path d=\"M120-120v-720h720v720H120Zm60-500h600v-160H180v160Zm220 220h160v-160H400v160Zm0 220h160v-160H400v160ZM180-400h160v-160H180v160Zm440 0h160v-160H620v160ZM180-180h160v-160H180v160Zm440 0h160v-160H620v160Z\"/>\n  </svg>\n    </button>\n\n  <style>\n    .colab-df-container {\n      display:flex;\n      gap: 12px;\n    }\n\n    .colab-df-convert {\n      background-color: #E8F0FE;\n      border: none;\n      border-radius: 50%;\n      cursor: pointer;\n      display: none;\n      fill: #1967D2;\n      height: 32px;\n      padding: 0 0 0 0;\n      width: 32px;\n    }\n\n    .colab-df-convert:hover {\n      background-color: #E2EBFA;\n      box-shadow: 0px 1px 2px rgba(60, 64, 67, 0.3), 0px 1px 3px 1px rgba(60, 64, 67, 0.15);\n      fill: #174EA6;\n    }\n\n    .colab-df-buttons div {\n      margin-bottom: 4px;\n    }\n\n    [theme=dark] .colab-df-convert {\n      background-color: #3B4455;\n      fill: #D2E3FC;\n    }\n\n    [theme=dark] .colab-df-convert:hover {\n      background-color: #434B5C;\n      box-shadow: 0px 1px 3px 1px rgba(0, 0, 0, 0.15);\n      filter: drop-shadow(0px 1px 2px rgba(0, 0, 0, 0.3));\n      fill: #FFFFFF;\n    }\n  </style>\n\n    <script>\n      const buttonEl =\n        document.querySelector('#df-930f25b4-fb52-4b1e-81a3-e8c39a0233ca button.colab-df-convert');\n      buttonEl.style.display =\n        google.colab.kernel.accessAllowed ? 'block' : 'none';\n\n      async function convertToInteractive(key) {\n        const element = document.querySelector('#df-930f25b4-fb52-4b1e-81a3-e8c39a0233ca');\n        const dataTable =\n          await google.colab.kernel.invokeFunction('convertToInteractive',\n                                                    [key], {});\n        if (!dataTable) return;\n\n        const docLinkHtml = 'Like what you see? Visit the ' +\n          '<a target=\"_blank\" href=https://colab.research.google.com/notebooks/data_table.ipynb>data table notebook</a>'\n          + ' to learn more about interactive tables.';\n        element.innerHTML = '';\n        dataTable['output_type'] = 'display_data';\n        await google.colab.output.renderOutput(dataTable, element);\n        const docLink = document.createElement('div');\n        docLink.innerHTML = docLinkHtml;\n        element.appendChild(docLink);\n      }\n    </script>\n  </div>\n\n\n    </div>\n  </div>\n",
                  "application/vnd.google.colaboratory.intrinsic+json": {
                    "type": "dataframe",
                    "summary": "{\n  \"name\": \"    viewer\",\n  \"rows\": 1,\n  \"fields\": [\n    {\n      \"column\": \"X\",\n      \"properties\": {\n        \"dtype\": \"number\",\n        \"std\": null,\n        \"min\": 568442678.4411471,\n        \"max\": 568442678.4411471,\n        \"num_unique_values\": 1,\n        \"samples\": [\n          568442678.4411471\n        ],\n        \"semantic_type\": \"\",\n        \"description\": \"\"\n      }\n    },\n    {\n      \"column\": \"Y\",\n      \"properties\": {\n        \"dtype\": \"number\",\n        \"std\": null,\n        \"min\": 617311635.7951987,\n        \"max\": 617311635.7951987,\n        \"num_unique_values\": 1,\n        \"samples\": [\n          617311635.7951987\n        ],\n        \"semantic_type\": \"\",\n        \"description\": \"\"\n      }\n    },\n    {\n      \"column\": \"Z\",\n      \"properties\": {\n        \"dtype\": \"number\",\n        \"std\": null,\n        \"min\": 575416247.7415386,\n        \"max\": 575416247.7415386,\n        \"num_unique_values\": 1,\n        \"samples\": [\n          575416247.7415386\n        ],\n        \"semantic_type\": \"\",\n        \"description\": \"\"\n      }\n    }\n  ]\n}"
                  }
                },
                "metadata": {}
              },
              {
                "output_type": "stream",
                "name": "stdout",
                "text": [
                  "\n",
                  "\n",
                  "Skewness:\n"
                ]
              },
              {
                "output_type": "display_data",
                "data": {
                  "text/plain": "array([ 0.11324728, -0.03669892,  0.06954915])"
                },
                "metadata": {}
              },
              {
                "output_type": "stream",
                "name": "stdout",
                "text": [
                  "\n",
                  "\n",
                  "Kurtosis:\n"
                ]
              },
              {
                "output_type": "display_data",
                "data": {
                  "text/plain": "array([-1.18962573, -1.27423667, -1.18121594])"
                },
                "metadata": {}
              },
              {
                "output_type": "stream",
                "name": "stdout",
                "text": [
                  "\n",
                  "\n",
                  "Correlation Coefficients:\n"
                ]
              },
              {
                "output_type": "display_data",
                "data": {
                  "text/plain": "          X         Y         Z\nX  1.000000  0.167294  0.028133\nY  0.167294  1.000000 -0.025737\nZ  0.028133 -0.025737  1.000000",
                  "text/html": "\n  <div id=\"df-488b2a4d-1e29-49f6-86e9-c501ab783c6e\" class=\"colab-df-container\">\n    <div>\n<style scoped>\n    .dataframe tbody tr th:only-of-type {\n        vertical-align: middle;\n    }\n\n    .dataframe tbody tr th {\n        vertical-align: top;\n    }\n\n    .dataframe thead th {\n        text-align: right;\n    }\n</style>\n<table border=\"1\" class=\"dataframe\">\n  <thead>\n    <tr style=\"text-align: right;\">\n      <th></th>\n      <th>X</th>\n      <th>Y</th>\n      <th>Z</th>\n    </tr>\n  </thead>\n  <tbody>\n    <tr>\n      <th>X</th>\n      <td>1.000000</td>\n      <td>0.167294</td>\n      <td>0.028133</td>\n    </tr>\n    <tr>\n      <th>Y</th>\n      <td>0.167294</td>\n      <td>1.000000</td>\n      <td>-0.025737</td>\n    </tr>\n    <tr>\n      <th>Z</th>\n      <td>0.028133</td>\n      <td>-0.025737</td>\n      <td>1.000000</td>\n    </tr>\n  </tbody>\n</table>\n</div>\n    <div class=\"colab-df-buttons\">\n\n  <div class=\"colab-df-container\">\n    <button class=\"colab-df-convert\" onclick=\"convertToInteractive('df-488b2a4d-1e29-49f6-86e9-c501ab783c6e')\"\n            title=\"Convert this dataframe to an interactive table.\"\n            style=\"display:none;\">\n\n  <svg xmlns=\"http://www.w3.org/2000/svg\" height=\"24px\" viewBox=\"0 -960 960 960\">\n    <path d=\"M120-120v-720h720v720H120Zm60-500h600v-160H180v160Zm220 220h160v-160H400v160Zm0 220h160v-160H400v160ZM180-400h160v-160H180v160Zm440 0h160v-160H620v160ZM180-180h160v-160H180v160Zm440 0h160v-160H620v160Z\"/>\n  </svg>\n    </button>\n\n  <style>\n    .colab-df-container {\n      display:flex;\n      gap: 12px;\n    }\n\n    .colab-df-convert {\n      background-color: #E8F0FE;\n      border: none;\n      border-radius: 50%;\n      cursor: pointer;\n      display: none;\n      fill: #1967D2;\n      height: 32px;\n      padding: 0 0 0 0;\n      width: 32px;\n    }\n\n    .colab-df-convert:hover {\n      background-color: #E2EBFA;\n      box-shadow: 0px 1px 2px rgba(60, 64, 67, 0.3), 0px 1px 3px 1px rgba(60, 64, 67, 0.15);\n      fill: #174EA6;\n    }\n\n    .colab-df-buttons div {\n      margin-bottom: 4px;\n    }\n\n    [theme=dark] .colab-df-convert {\n      background-color: #3B4455;\n      fill: #D2E3FC;\n    }\n\n    [theme=dark] .colab-df-convert:hover {\n      background-color: #434B5C;\n      box-shadow: 0px 1px 3px 1px rgba(0, 0, 0, 0.15);\n      filter: drop-shadow(0px 1px 2px rgba(0, 0, 0, 0.3));\n      fill: #FFFFFF;\n    }\n  </style>\n\n    <script>\n      const buttonEl =\n        document.querySelector('#df-488b2a4d-1e29-49f6-86e9-c501ab783c6e button.colab-df-convert');\n      buttonEl.style.display =\n        google.colab.kernel.accessAllowed ? 'block' : 'none';\n\n      async function convertToInteractive(key) {\n        const element = document.querySelector('#df-488b2a4d-1e29-49f6-86e9-c501ab783c6e');\n        const dataTable =\n          await google.colab.kernel.invokeFunction('convertToInteractive',\n                                                    [key], {});\n        if (!dataTable) return;\n\n        const docLinkHtml = 'Like what you see? Visit the ' +\n          '<a target=\"_blank\" href=https://colab.research.google.com/notebooks/data_table.ipynb>data table notebook</a>'\n          + ' to learn more about interactive tables.';\n        element.innerHTML = '';\n        dataTable['output_type'] = 'display_data';\n        await google.colab.output.renderOutput(dataTable, element);\n        const docLink = document.createElement('div');\n        docLink.innerHTML = docLinkHtml;\n        element.appendChild(docLink);\n      }\n    </script>\n  </div>\n\n\n<div id=\"df-bad00e23-81e2-466c-af81-c139388eb90b\">\n  <button class=\"colab-df-quickchart\" onclick=\"quickchart('df-bad00e23-81e2-466c-af81-c139388eb90b')\"\n            title=\"Suggest charts\"\n            style=\"display:none;\">\n\n<svg xmlns=\"http://www.w3.org/2000/svg\" height=\"24px\"viewBox=\"0 0 24 24\"\n     width=\"24px\">\n    <g>\n        <path d=\"M19 3H5c-1.1 0-2 .9-2 2v14c0 1.1.9 2 2 2h14c1.1 0 2-.9 2-2V5c0-1.1-.9-2-2-2zM9 17H7v-7h2v7zm4 0h-2V7h2v10zm4 0h-2v-4h2v4z\"/>\n    </g>\n</svg>\n  </button>\n\n<style>\n  .colab-df-quickchart {\n      --bg-color: #E8F0FE;\n      --fill-color: #1967D2;\n      --hover-bg-color: #E2EBFA;\n      --hover-fill-color: #174EA6;\n      --disabled-fill-color: #AAA;\n      --disabled-bg-color: #DDD;\n  }\n\n  [theme=dark] .colab-df-quickchart {\n      --bg-color: #3B4455;\n      --fill-color: #D2E3FC;\n      --hover-bg-color: #434B5C;\n      --hover-fill-color: #FFFFFF;\n      --disabled-bg-color: #3B4455;\n      --disabled-fill-color: #666;\n  }\n\n  .colab-df-quickchart {\n    background-color: var(--bg-color);\n    border: none;\n    border-radius: 50%;\n    cursor: pointer;\n    display: none;\n    fill: var(--fill-color);\n    height: 32px;\n    padding: 0;\n    width: 32px;\n  }\n\n  .colab-df-quickchart:hover {\n    background-color: var(--hover-bg-color);\n    box-shadow: 0 1px 2px rgba(60, 64, 67, 0.3), 0 1px 3px 1px rgba(60, 64, 67, 0.15);\n    fill: var(--button-hover-fill-color);\n  }\n\n  .colab-df-quickchart-complete:disabled,\n  .colab-df-quickchart-complete:disabled:hover {\n    background-color: var(--disabled-bg-color);\n    fill: var(--disabled-fill-color);\n    box-shadow: none;\n  }\n\n  .colab-df-spinner {\n    border: 2px solid var(--fill-color);\n    border-color: transparent;\n    border-bottom-color: var(--fill-color);\n    animation:\n      spin 1s steps(1) infinite;\n  }\n\n  @keyframes spin {\n    0% {\n      border-color: transparent;\n      border-bottom-color: var(--fill-color);\n      border-left-color: var(--fill-color);\n    }\n    20% {\n      border-color: transparent;\n      border-left-color: var(--fill-color);\n      border-top-color: var(--fill-color);\n    }\n    30% {\n      border-color: transparent;\n      border-left-color: var(--fill-color);\n      border-top-color: var(--fill-color);\n      border-right-color: var(--fill-color);\n    }\n    40% {\n      border-color: transparent;\n      border-right-color: var(--fill-color);\n      border-top-color: var(--fill-color);\n    }\n    60% {\n      border-color: transparent;\n      border-right-color: var(--fill-color);\n    }\n    80% {\n      border-color: transparent;\n      border-right-color: var(--fill-color);\n      border-bottom-color: var(--fill-color);\n    }\n    90% {\n      border-color: transparent;\n      border-bottom-color: var(--fill-color);\n    }\n  }\n</style>\n\n  <script>\n    async function quickchart(key) {\n      const quickchartButtonEl =\n        document.querySelector('#' + key + ' button');\n      quickchartButtonEl.disabled = true;  // To prevent multiple clicks.\n      quickchartButtonEl.classList.add('colab-df-spinner');\n      try {\n        const charts = await google.colab.kernel.invokeFunction(\n            'suggestCharts', [key], {});\n      } catch (error) {\n        console.error('Error during call to suggestCharts:', error);\n      }\n      quickchartButtonEl.classList.remove('colab-df-spinner');\n      quickchartButtonEl.classList.add('colab-df-quickchart-complete');\n    }\n    (() => {\n      let quickchartButtonEl =\n        document.querySelector('#df-bad00e23-81e2-466c-af81-c139388eb90b button');\n      quickchartButtonEl.style.display =\n        google.colab.kernel.accessAllowed ? 'block' : 'none';\n    })();\n  </script>\n</div>\n\n    </div>\n  </div>\n",
                  "application/vnd.google.colaboratory.intrinsic+json": {
                    "type": "dataframe",
                    "summary": "{\n  \"name\": \"    viewer\",\n  \"rows\": 3,\n  \"fields\": [\n    {\n      \"column\": \"X\",\n      \"properties\": {\n        \"dtype\": \"number\",\n        \"std\": 0.5255615903841102,\n        \"min\": 0.02813339011180888,\n        \"max\": 1.0,\n        \"num_unique_values\": 3,\n        \"samples\": [\n          1.0,\n          0.1672938222709192,\n          0.02813339011180888\n        ],\n        \"semantic_type\": \"\",\n        \"description\": \"\"\n      }\n    },\n    {\n      \"column\": \"Y\",\n      \"properties\": {\n        \"dtype\": \"number\",\n        \"std\": 0.5450989477015356,\n        \"min\": -0.025737125851753095,\n        \"max\": 1.0,\n        \"num_unique_values\": 3,\n        \"samples\": [\n          0.1672938222709192,\n          1.0,\n          -0.025737125851753095\n        ],\n        \"semantic_type\": \"\",\n        \"description\": \"\"\n      }\n    },\n    {\n      \"column\": \"Z\",\n      \"properties\": {\n        \"dtype\": \"number\",\n        \"std\": 0.5772872467059995,\n        \"min\": -0.025737125851753095,\n        \"max\": 1.0,\n        \"num_unique_values\": 3,\n        \"samples\": [\n          0.02813339011180888,\n          -0.025737125851753095,\n          1.0\n        ],\n        \"semantic_type\": \"\",\n        \"description\": \"\"\n      }\n    }\n  ]\n}"
                  }
                },
                "metadata": {}
              },
              {
                "output_type": "stream",
                "name": "stdout",
                "text": [
                  "\n",
                  "\n"
                ]
              }
            ]
          }
        },
        "4b887165d6e24d0881045290852e06ff": {
          "model_module": "@jupyter-widgets/base",
          "model_name": "LayoutModel",
          "model_module_version": "1.2.0",
          "state": {
            "_model_module": "@jupyter-widgets/base",
            "_model_module_version": "1.2.0",
            "_model_name": "LayoutModel",
            "_view_count": null,
            "_view_module": "@jupyter-widgets/base",
            "_view_module_version": "1.2.0",
            "_view_name": "LayoutView",
            "align_content": null,
            "align_items": null,
            "align_self": null,
            "border": null,
            "bottom": null,
            "display": null,
            "flex": null,
            "flex_flow": null,
            "grid_area": null,
            "grid_auto_columns": null,
            "grid_auto_flow": null,
            "grid_auto_rows": null,
            "grid_column": null,
            "grid_gap": null,
            "grid_row": null,
            "grid_template_areas": null,
            "grid_template_columns": null,
            "grid_template_rows": null,
            "height": null,
            "justify_content": null,
            "justify_items": null,
            "left": null,
            "margin": null,
            "max_height": null,
            "max_width": null,
            "min_height": null,
            "min_width": null,
            "object_fit": null,
            "object_position": null,
            "order": null,
            "overflow": null,
            "overflow_x": null,
            "overflow_y": null,
            "padding": null,
            "right": null,
            "top": null,
            "visibility": null,
            "width": null
          }
        },
        "d97d7c69c6504033b0406b0affdfa022": {
          "model_module": "@jupyter-widgets/base",
          "model_name": "LayoutModel",
          "model_module_version": "1.2.0",
          "state": {
            "_model_module": "@jupyter-widgets/base",
            "_model_module_version": "1.2.0",
            "_model_name": "LayoutModel",
            "_view_count": null,
            "_view_module": "@jupyter-widgets/base",
            "_view_module_version": "1.2.0",
            "_view_name": "LayoutView",
            "align_content": null,
            "align_items": null,
            "align_self": null,
            "border": null,
            "bottom": null,
            "display": null,
            "flex": null,
            "flex_flow": null,
            "grid_area": null,
            "grid_auto_columns": null,
            "grid_auto_flow": null,
            "grid_auto_rows": null,
            "grid_column": null,
            "grid_gap": null,
            "grid_row": null,
            "grid_template_areas": null,
            "grid_template_columns": null,
            "grid_template_rows": null,
            "height": null,
            "justify_content": null,
            "justify_items": null,
            "left": null,
            "margin": null,
            "max_height": null,
            "max_width": null,
            "min_height": null,
            "min_width": null,
            "object_fit": null,
            "object_position": null,
            "order": null,
            "overflow": null,
            "overflow_x": null,
            "overflow_y": null,
            "padding": null,
            "right": null,
            "top": null,
            "visibility": null,
            "width": null
          }
        }
      }
    }
  },
  "cells": [
    {
      "cell_type": "markdown",
      "metadata": {
        "id": "view-in-github",
        "colab_type": "text"
      },
      "source": [
        "<a href=\"https://colab.research.google.com/github/LoQiseaking69/TimeRing-/blob/main/rm_ringltheory.ipynb\" target=\"_parent\"><img src=\"https://colab.research.google.com/assets/colab-badge.svg\" alt=\"Open In Colab\"/></a>"
      ]
    },
    {
      "cell_type": "code",
      "source": [
        "import numpy as np\n",
        "import matplotlib.pyplot as plt\n",
        "import seaborn as sns\n",
        "from mpl_toolkits.mplot3d import Axes3D\n",
        "from ipywidgets import interact, Output, VBox, FloatSlider\n",
        "import pandas as pd\n",
        "from scipy.stats import skew, kurtosis\n",
        "\n",
        "class InteractiveRingLaserViewer:\n",
        "    def __init__(self, wavelength=1550e-9, beam_power=1e-3, ring_radius=1e9, num_detectors=360, c=299792458, G=6.67430e-11):\n",
        "        self.wavelength = wavelength\n",
        "        self.beam_power = beam_power\n",
        "        self.ring_radius = ring_radius\n",
        "        self.num_detectors = num_detectors\n",
        "        self.c = c\n",
        "        self.G = G\n",
        "\n",
        "        self.output = Output()\n",
        "        self.laser_energy_slider = FloatSlider(min=0, max=1e6, step=1, value=1e5, description='Laser Energy:')\n",
        "        self.laser_radius_slider = FloatSlider(min=0, max=1e6, step=1, value=1e5, description='Laser Radius:')\n",
        "        self.angular_momentum_slider = FloatSlider(min=0, max=1e6, step=1, value=1e5, description='Angular Momentum:')\n",
        "        self.pulse_duration_slider = FloatSlider(min=0, max=1e6, step=1, value=1e5, description='Pulse Duration:')\n",
        "\n",
        "        self.setup_interactive()\n",
        "\n",
        "    def setup_interactive(self):\n",
        "        @interact(laser_energy=self.laser_energy_slider,\n",
        "                  laser_radius=self.laser_radius_slider,\n",
        "                  angular_momentum=self.angular_momentum_slider,\n",
        "                  pulse_duration=self.pulse_duration_slider)\n",
        "        def interactive_plot(laser_energy, laser_radius, angular_momentum, pulse_duration):\n",
        "            with self.output:\n",
        "                self.output.clear_output(wait=True)\n",
        "                try:\n",
        "                    adjusted_pulse_duration = self.calculate_adjusted_pulse_duration(laser_energy, laser_radius, angular_momentum, pulse_duration)\n",
        "                    print(\"Adjusted pulse duration:\", adjusted_pulse_duration)\n",
        "                    point_cloud = self.generate_points(laser_energy, laser_radius, angular_momentum, pulse_duration)\n",
        "                    self.visualize_point_cloud(point_cloud)\n",
        "                    self.display_metrics(point_cloud)\n",
        "                except Exception as e:\n",
        "                    print(f\"An error occurred: {e}\")\n",
        "\n",
        "    def calculate_adjusted_pulse_duration(self, laser_energy, laser_radius, angular_momentum, pulse_duration):\n",
        "        r = np.linalg.norm([laser_energy, laser_radius, angular_momentum])\n",
        "        schwarzschild_radius = 2 * self.G * r / (self.c ** 2)\n",
        "        dilation_factor = np.sqrt(1 - (schwarzschild_radius / r))\n",
        "        return self.wavelength / (self.c * dilation_factor)\n",
        "\n",
        "    def generate_points(self, laser_energy, laser_radius, angular_momentum, pulse_duration):\n",
        "        num_points = 100\n",
        "        points = np.random.uniform(low=-1e9, high=1e9, size=(num_points, 3))\n",
        "        return points\n",
        "\n",
        "    def visualize_point_cloud(self, point_cloud):\n",
        "        fig = plt.figure(figsize=(10, 6))\n",
        "        ax = fig.add_subplot(111, projection='3d')\n",
        "        ax.scatter(point_cloud[:, 0], point_cloud[:, 1], point_cloud[:, 2], c='b', marker='.')\n",
        "        ax.set_xlabel('X')\n",
        "        ax.set_ylabel('Y')\n",
        "        ax.set_zlabel('Z')\n",
        "        ax.set_title(\"Ring Laser Time Viewer Point Cloud\")\n",
        "        plt.show()\n",
        "\n",
        "    def display_metrics(self, point_cloud):\n",
        "        df = pd.DataFrame(point_cloud, columns=['X', 'Y', 'Z'])\n",
        "\n",
        "        # Calculate metrics\n",
        "        metrics = {\n",
        "            'Mean': df.mean(),\n",
        "            'Standard Deviation': df.std(),\n",
        "            'Skewness': skew(df),\n",
        "            'Kurtosis': kurtosis(df),\n",
        "            'Correlation Coefficients': df.corr()\n",
        "        }\n",
        "\n",
        "        # Display metrics in a tabular format\n",
        "        for name, metric in metrics.items():\n",
        "            if isinstance(metric, pd.Series):\n",
        "                metric = pd.DataFrame(metric).T\n",
        "            print(f\"{name}:\")\n",
        "            display(metric)\n",
        "            print(\"\\n\")\n",
        "\n",
        "    def display(self):\n",
        "        display(VBox([self.output]))\n",
        "\n",
        "# Usage\n",
        "if __name__ == \"__main__\":\n",
        "    viewer = InteractiveRingLaserViewer()\n",
        "    viewer.display()"
      ],
      "metadata": {
        "id": "x1iP0r-Ju92_",
        "outputId": "57ea96eb-0992-4ca5-96d4-4d6918dbc9c6",
        "colab": {
          "base_uri": "https://localhost:8080/",
          "height": 1000,
          "referenced_widgets": [
            "e4802d746cf14d1d8efd54c9f1675c25",
            "e85c6d7a1afb4dff80a6e547ad76c713",
            "5bf55ab86cce4a3f8aa6db5d300e908e",
            "39a9f98b1b4d46b6b80675d6bbb7501d",
            "058063d6a64b473ca5c292b9e7f64edb",
            "a29d0a572673489bbebe56c3efedd9e1",
            "2cdab012fce5445796fd973a4b1e373c",
            "fd512bfca3c74382bd2503993210b064",
            "3c405cff318a4697bba0d3aacb1af912",
            "3abbc3dc100e4c2b8e52b687e153e3bd",
            "f518486fac0745298f135af24863c543",
            "50b4d9e4cb57424faca309f25fc070e9",
            "d4bddb23237643409fc43b632c298939",
            "7bf3e6b886114d0387ea6f0938004280",
            "1f4c4c0f206546b2923450fc4ef8883f",
            "16cc838da00a433aa371a7bd01fa3d31",
            "0da08185e3ee4fb19d3b202f441af8dc",
            "adaf0267327444a28d1353057aa422c3",
            "4b887165d6e24d0881045290852e06ff",
            "d97d7c69c6504033b0406b0affdfa022"
          ]
        }
      },
      "execution_count": null,
      "outputs": [
        {
          "output_type": "display_data",
          "data": {
            "text/plain": [
              "interactive(children=(FloatSlider(value=100000.0, description='Laser Energy:', max=1000000.0, step=1.0), Float…"
            ],
            "application/vnd.jupyter.widget-view+json": {
              "version_major": 2,
              "version_minor": 0,
              "model_id": "e4802d746cf14d1d8efd54c9f1675c25"
            }
          },
          "metadata": {}
        },
        {
          "output_type": "display_data",
          "data": {
            "text/plain": [
              "VBox(children=(Output(),))"
            ],
            "application/vnd.jupyter.widget-view+json": {
              "version_major": 2,
              "version_minor": 0,
              "model_id": "0da08185e3ee4fb19d3b202f441af8dc"
            }
          },
          "metadata": {}
        }
      ]
    }
  ]
}