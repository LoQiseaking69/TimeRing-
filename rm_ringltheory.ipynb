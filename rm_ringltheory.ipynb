{
  "nbformat": 4,
  "nbformat_minor": 0,
  "metadata": {
    "colab": {
      "provenance": [],
      "authorship_tag": "ABX9TyNks0LHz2K6stoQqSz2uY7z",
      "include_colab_link": true
    },
    "kernelspec": {
      "name": "python3",
      "display_name": "Python 3"
    },
    "language_info": {
      "name": "python"
    },
    "widgets": {
      "application/vnd.jupyter.widget-state+json": {
        "78ffe875132740338ef48b50ad1cbb95": {
          "model_module": "@jupyter-widgets/controls",
          "model_name": "VBoxModel",
          "model_module_version": "1.5.0",
          "state": {
            "_dom_classes": [
              "widget-interact"
            ],
            "_model_module": "@jupyter-widgets/controls",
            "_model_module_version": "1.5.0",
            "_model_name": "VBoxModel",
            "_view_count": null,
            "_view_module": "@jupyter-widgets/controls",
            "_view_module_version": "1.5.0",
            "_view_name": "VBoxView",
            "box_style": "",
            "children": [
              "IPY_MODEL_808c4a4d3d3949e6b515d9f2690ab028",
              "IPY_MODEL_057f9c0c3cb4411fa65abf0edf34bf21",
              "IPY_MODEL_8e544b1cb3c24bd7b89553f81463582a",
              "IPY_MODEL_274e67868115483b97c8213b2b970e08",
              "IPY_MODEL_c199e87a5d4843639c663f927d4eb37c"
            ],
            "layout": "IPY_MODEL_bbfefdd166cc4ddeab013edf94a60f84"
          }
        },
        "808c4a4d3d3949e6b515d9f2690ab028": {
          "model_module": "@jupyter-widgets/controls",
          "model_name": "FloatSliderModel",
          "model_module_version": "1.5.0",
          "state": {
            "_dom_classes": [],
            "_model_module": "@jupyter-widgets/controls",
            "_model_module_version": "1.5.0",
            "_model_name": "FloatSliderModel",
            "_view_count": null,
            "_view_module": "@jupyter-widgets/controls",
            "_view_module_version": "1.5.0",
            "_view_name": "FloatSliderView",
            "continuous_update": true,
            "description": "Laser Energy:",
            "description_tooltip": null,
            "disabled": false,
            "layout": "IPY_MODEL_1727f7d8d7ec4fd29ae08780a6910749",
            "max": 1000000,
            "min": 0,
            "orientation": "horizontal",
            "readout": true,
            "readout_format": ".2f",
            "step": 1,
            "style": "IPY_MODEL_e568576dc136430bae8043999e8a8b1b",
            "value": 100000
          }
        },
        "057f9c0c3cb4411fa65abf0edf34bf21": {
          "model_module": "@jupyter-widgets/controls",
          "model_name": "FloatSliderModel",
          "model_module_version": "1.5.0",
          "state": {
            "_dom_classes": [],
            "_model_module": "@jupyter-widgets/controls",
            "_model_module_version": "1.5.0",
            "_model_name": "FloatSliderModel",
            "_view_count": null,
            "_view_module": "@jupyter-widgets/controls",
            "_view_module_version": "1.5.0",
            "_view_name": "FloatSliderView",
            "continuous_update": true,
            "description": "Laser Radius:",
            "description_tooltip": null,
            "disabled": false,
            "layout": "IPY_MODEL_c834a55aba6247aba4894ae2da0b6151",
            "max": 1000000,
            "min": 0,
            "orientation": "horizontal",
            "readout": true,
            "readout_format": ".2f",
            "step": 1,
            "style": "IPY_MODEL_b15ef67ca6f7474ea14739acb1421695",
            "value": 100000
          }
        },
        "8e544b1cb3c24bd7b89553f81463582a": {
          "model_module": "@jupyter-widgets/controls",
          "model_name": "FloatSliderModel",
          "model_module_version": "1.5.0",
          "state": {
            "_dom_classes": [],
            "_model_module": "@jupyter-widgets/controls",
            "_model_module_version": "1.5.0",
            "_model_name": "FloatSliderModel",
            "_view_count": null,
            "_view_module": "@jupyter-widgets/controls",
            "_view_module_version": "1.5.0",
            "_view_name": "FloatSliderView",
            "continuous_update": true,
            "description": "Angular Momentum:",
            "description_tooltip": null,
            "disabled": false,
            "layout": "IPY_MODEL_1c7a641f7ca7471da3910a6d28a354b0",
            "max": 1000000,
            "min": 0,
            "orientation": "horizontal",
            "readout": true,
            "readout_format": ".2f",
            "step": 1,
            "style": "IPY_MODEL_da1d67d049e540829e976357267003c4",
            "value": 100000
          }
        },
        "274e67868115483b97c8213b2b970e08": {
          "model_module": "@jupyter-widgets/controls",
          "model_name": "FloatSliderModel",
          "model_module_version": "1.5.0",
          "state": {
            "_dom_classes": [],
            "_model_module": "@jupyter-widgets/controls",
            "_model_module_version": "1.5.0",
            "_model_name": "FloatSliderModel",
            "_view_count": null,
            "_view_module": "@jupyter-widgets/controls",
            "_view_module_version": "1.5.0",
            "_view_name": "FloatSliderView",
            "continuous_update": true,
            "description": "Pulse Duration:",
            "description_tooltip": null,
            "disabled": false,
            "layout": "IPY_MODEL_7767a2b9c963455396f1bdbd537e70ef",
            "max": 1000000,
            "min": 0,
            "orientation": "horizontal",
            "readout": true,
            "readout_format": ".2f",
            "step": 1,
            "style": "IPY_MODEL_20937067dea4455fb1347ebd6b2c73ce",
            "value": 100000
          }
        },
        "c199e87a5d4843639c663f927d4eb37c": {
          "model_module": "@jupyter-widgets/output",
          "model_name": "OutputModel",
          "model_module_version": "1.0.0",
          "state": {
            "_dom_classes": [],
            "_model_module": "@jupyter-widgets/output",
            "_model_module_version": "1.0.0",
            "_model_name": "OutputModel",
            "_view_count": null,
            "_view_module": "@jupyter-widgets/output",
            "_view_module_version": "1.0.0",
            "_view_name": "OutputView",
            "layout": "IPY_MODEL_445039aed8a64512979176d0a45e4d62",
            "msg_id": "",
            "outputs": []
          }
        },
        "bbfefdd166cc4ddeab013edf94a60f84": {
          "model_module": "@jupyter-widgets/base",
          "model_name": "LayoutModel",
          "model_module_version": "1.2.0",
          "state": {
            "_model_module": "@jupyter-widgets/base",
            "_model_module_version": "1.2.0",
            "_model_name": "LayoutModel",
            "_view_count": null,
            "_view_module": "@jupyter-widgets/base",
            "_view_module_version": "1.2.0",
            "_view_name": "LayoutView",
            "align_content": null,
            "align_items": null,
            "align_self": null,
            "border": null,
            "bottom": null,
            "display": null,
            "flex": null,
            "flex_flow": null,
            "grid_area": null,
            "grid_auto_columns": null,
            "grid_auto_flow": null,
            "grid_auto_rows": null,
            "grid_column": null,
            "grid_gap": null,
            "grid_row": null,
            "grid_template_areas": null,
            "grid_template_columns": null,
            "grid_template_rows": null,
            "height": null,
            "justify_content": null,
            "justify_items": null,
            "left": null,
            "margin": null,
            "max_height": null,
            "max_width": null,
            "min_height": null,
            "min_width": null,
            "object_fit": null,
            "object_position": null,
            "order": null,
            "overflow": null,
            "overflow_x": null,
            "overflow_y": null,
            "padding": null,
            "right": null,
            "top": null,
            "visibility": null,
            "width": null
          }
        },
        "1727f7d8d7ec4fd29ae08780a6910749": {
          "model_module": "@jupyter-widgets/base",
          "model_name": "LayoutModel",
          "model_module_version": "1.2.0",
          "state": {
            "_model_module": "@jupyter-widgets/base",
            "_model_module_version": "1.2.0",
            "_model_name": "LayoutModel",
            "_view_count": null,
            "_view_module": "@jupyter-widgets/base",
            "_view_module_version": "1.2.0",
            "_view_name": "LayoutView",
            "align_content": null,
            "align_items": null,
            "align_self": null,
            "border": null,
            "bottom": null,
            "display": null,
            "flex": null,
            "flex_flow": null,
            "grid_area": null,
            "grid_auto_columns": null,
            "grid_auto_flow": null,
            "grid_auto_rows": null,
            "grid_column": null,
            "grid_gap": null,
            "grid_row": null,
            "grid_template_areas": null,
            "grid_template_columns": null,
            "grid_template_rows": null,
            "height": null,
            "justify_content": null,
            "justify_items": null,
            "left": null,
            "margin": null,
            "max_height": null,
            "max_width": null,
            "min_height": null,
            "min_width": null,
            "object_fit": null,
            "object_position": null,
            "order": null,
            "overflow": null,
            "overflow_x": null,
            "overflow_y": null,
            "padding": null,
            "right": null,
            "top": null,
            "visibility": null,
            "width": null
          }
        },
        "e568576dc136430bae8043999e8a8b1b": {
          "model_module": "@jupyter-widgets/controls",
          "model_name": "SliderStyleModel",
          "model_module_version": "1.5.0",
          "state": {
            "_model_module": "@jupyter-widgets/controls",
            "_model_module_version": "1.5.0",
            "_model_name": "SliderStyleModel",
            "_view_count": null,
            "_view_module": "@jupyter-widgets/base",
            "_view_module_version": "1.2.0",
            "_view_name": "StyleView",
            "description_width": "",
            "handle_color": null
          }
        },
        "c834a55aba6247aba4894ae2da0b6151": {
          "model_module": "@jupyter-widgets/base",
          "model_name": "LayoutModel",
          "model_module_version": "1.2.0",
          "state": {
            "_model_module": "@jupyter-widgets/base",
            "_model_module_version": "1.2.0",
            "_model_name": "LayoutModel",
            "_view_count": null,
            "_view_module": "@jupyter-widgets/base",
            "_view_module_version": "1.2.0",
            "_view_name": "LayoutView",
            "align_content": null,
            "align_items": null,
            "align_self": null,
            "border": null,
            "bottom": null,
            "display": null,
            "flex": null,
            "flex_flow": null,
            "grid_area": null,
            "grid_auto_columns": null,
            "grid_auto_flow": null,
            "grid_auto_rows": null,
            "grid_column": null,
            "grid_gap": null,
            "grid_row": null,
            "grid_template_areas": null,
            "grid_template_columns": null,
            "grid_template_rows": null,
            "height": null,
            "justify_content": null,
            "justify_items": null,
            "left": null,
            "margin": null,
            "max_height": null,
            "max_width": null,
            "min_height": null,
            "min_width": null,
            "object_fit": null,
            "object_position": null,
            "order": null,
            "overflow": null,
            "overflow_x": null,
            "overflow_y": null,
            "padding": null,
            "right": null,
            "top": null,
            "visibility": null,
            "width": null
          }
        },
        "b15ef67ca6f7474ea14739acb1421695": {
          "model_module": "@jupyter-widgets/controls",
          "model_name": "SliderStyleModel",
          "model_module_version": "1.5.0",
          "state": {
            "_model_module": "@jupyter-widgets/controls",
            "_model_module_version": "1.5.0",
            "_model_name": "SliderStyleModel",
            "_view_count": null,
            "_view_module": "@jupyter-widgets/base",
            "_view_module_version": "1.2.0",
            "_view_name": "StyleView",
            "description_width": "",
            "handle_color": null
          }
        },
        "1c7a641f7ca7471da3910a6d28a354b0": {
          "model_module": "@jupyter-widgets/base",
          "model_name": "LayoutModel",
          "model_module_version": "1.2.0",
          "state": {
            "_model_module": "@jupyter-widgets/base",
            "_model_module_version": "1.2.0",
            "_model_name": "LayoutModel",
            "_view_count": null,
            "_view_module": "@jupyter-widgets/base",
            "_view_module_version": "1.2.0",
            "_view_name": "LayoutView",
            "align_content": null,
            "align_items": null,
            "align_self": null,
            "border": null,
            "bottom": null,
            "display": null,
            "flex": null,
            "flex_flow": null,
            "grid_area": null,
            "grid_auto_columns": null,
            "grid_auto_flow": null,
            "grid_auto_rows": null,
            "grid_column": null,
            "grid_gap": null,
            "grid_row": null,
            "grid_template_areas": null,
            "grid_template_columns": null,
            "grid_template_rows": null,
            "height": null,
            "justify_content": null,
            "justify_items": null,
            "left": null,
            "margin": null,
            "max_height": null,
            "max_width": null,
            "min_height": null,
            "min_width": null,
            "object_fit": null,
            "object_position": null,
            "order": null,
            "overflow": null,
            "overflow_x": null,
            "overflow_y": null,
            "padding": null,
            "right": null,
            "top": null,
            "visibility": null,
            "width": null
          }
        },
        "da1d67d049e540829e976357267003c4": {
          "model_module": "@jupyter-widgets/controls",
          "model_name": "SliderStyleModel",
          "model_module_version": "1.5.0",
          "state": {
            "_model_module": "@jupyter-widgets/controls",
            "_model_module_version": "1.5.0",
            "_model_name": "SliderStyleModel",
            "_view_count": null,
            "_view_module": "@jupyter-widgets/base",
            "_view_module_version": "1.2.0",
            "_view_name": "StyleView",
            "description_width": "",
            "handle_color": null
          }
        },
        "7767a2b9c963455396f1bdbd537e70ef": {
          "model_module": "@jupyter-widgets/base",
          "model_name": "LayoutModel",
          "model_module_version": "1.2.0",
          "state": {
            "_model_module": "@jupyter-widgets/base",
            "_model_module_version": "1.2.0",
            "_model_name": "LayoutModel",
            "_view_count": null,
            "_view_module": "@jupyter-widgets/base",
            "_view_module_version": "1.2.0",
            "_view_name": "LayoutView",
            "align_content": null,
            "align_items": null,
            "align_self": null,
            "border": null,
            "bottom": null,
            "display": null,
            "flex": null,
            "flex_flow": null,
            "grid_area": null,
            "grid_auto_columns": null,
            "grid_auto_flow": null,
            "grid_auto_rows": null,
            "grid_column": null,
            "grid_gap": null,
            "grid_row": null,
            "grid_template_areas": null,
            "grid_template_columns": null,
            "grid_template_rows": null,
            "height": null,
            "justify_content": null,
            "justify_items": null,
            "left": null,
            "margin": null,
            "max_height": null,
            "max_width": null,
            "min_height": null,
            "min_width": null,
            "object_fit": null,
            "object_position": null,
            "order": null,
            "overflow": null,
            "overflow_x": null,
            "overflow_y": null,
            "padding": null,
            "right": null,
            "top": null,
            "visibility": null,
            "width": null
          }
        },
        "20937067dea4455fb1347ebd6b2c73ce": {
          "model_module": "@jupyter-widgets/controls",
          "model_name": "SliderStyleModel",
          "model_module_version": "1.5.0",
          "state": {
            "_model_module": "@jupyter-widgets/controls",
            "_model_module_version": "1.5.0",
            "_model_name": "SliderStyleModel",
            "_view_count": null,
            "_view_module": "@jupyter-widgets/base",
            "_view_module_version": "1.2.0",
            "_view_name": "StyleView",
            "description_width": "",
            "handle_color": null
          }
        },
        "445039aed8a64512979176d0a45e4d62": {
          "model_module": "@jupyter-widgets/base",
          "model_name": "LayoutModel",
          "model_module_version": "1.2.0",
          "state": {
            "_model_module": "@jupyter-widgets/base",
            "_model_module_version": "1.2.0",
            "_model_name": "LayoutModel",
            "_view_count": null,
            "_view_module": "@jupyter-widgets/base",
            "_view_module_version": "1.2.0",
            "_view_name": "LayoutView",
            "align_content": null,
            "align_items": null,
            "align_self": null,
            "border": null,
            "bottom": null,
            "display": null,
            "flex": null,
            "flex_flow": null,
            "grid_area": null,
            "grid_auto_columns": null,
            "grid_auto_flow": null,
            "grid_auto_rows": null,
            "grid_column": null,
            "grid_gap": null,
            "grid_row": null,
            "grid_template_areas": null,
            "grid_template_columns": null,
            "grid_template_rows": null,
            "height": null,
            "justify_content": null,
            "justify_items": null,
            "left": null,
            "margin": null,
            "max_height": null,
            "max_width": null,
            "min_height": null,
            "min_width": null,
            "object_fit": null,
            "object_position": null,
            "order": null,
            "overflow": null,
            "overflow_x": null,
            "overflow_y": null,
            "padding": null,
            "right": null,
            "top": null,
            "visibility": null,
            "width": null
          }
        },
        "ea0d695dd6994583aca8451cbf41b6b0": {
          "model_module": "@jupyter-widgets/controls",
          "model_name": "VBoxModel",
          "model_module_version": "1.5.0",
          "state": {
            "_dom_classes": [],
            "_model_module": "@jupyter-widgets/controls",
            "_model_module_version": "1.5.0",
            "_model_name": "VBoxModel",
            "_view_count": null,
            "_view_module": "@jupyter-widgets/controls",
            "_view_module_version": "1.5.0",
            "_view_name": "VBoxView",
            "box_style": "",
            "children": [
              "IPY_MODEL_a1ba11c3d0764496b3fca353a5ba6e53"
            ],
            "layout": "IPY_MODEL_f31afa1c009147a48be8a73337439245"
          }
        },
        "a1ba11c3d0764496b3fca353a5ba6e53": {
          "model_module": "@jupyter-widgets/output",
          "model_name": "OutputModel",
          "model_module_version": "1.0.0",
          "state": {
            "_dom_classes": [],
            "_model_module": "@jupyter-widgets/output",
            "_model_module_version": "1.0.0",
            "_model_name": "OutputModel",
            "_view_count": null,
            "_view_module": "@jupyter-widgets/output",
            "_view_module_version": "1.0.0",
            "_view_name": "OutputView",
            "layout": "IPY_MODEL_4b855a4c12fb460f8610bb0dcb054a61",
            "msg_id": "",
            "outputs": [
              {
                "output_type": "stream",
                "name": "stdout",
                "text": [
                  "Adjusted pulse duration: 5.1702434755713565e-15\n"
                ]
              },
              {
                "output_type": "display_data",
                "data": {
                  "text/plain": "<Figure size 1000x600 with 1 Axes>",
                  "image/png": "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\n"
                },
                "metadata": {}
              },
              {
                "output_type": "stream",
                "name": "stdout",
                "text": [
                  "Mean:\n"
                ]
              },
              {
                "output_type": "display_data",
                "data": {
                  "text/plain": "              X             Y             Z\n0 -1.232040e+07  6.635264e+07 -1.180224e+07",
                  "text/html": "\n  <div id=\"df-0c8d9511-4cda-4032-a098-d43064fd3afb\" class=\"colab-df-container\">\n    <div>\n<style scoped>\n    .dataframe tbody tr th:only-of-type {\n        vertical-align: middle;\n    }\n\n    .dataframe tbody tr th {\n        vertical-align: top;\n    }\n\n    .dataframe thead th {\n        text-align: right;\n    }\n</style>\n<table border=\"1\" class=\"dataframe\">\n  <thead>\n    <tr style=\"text-align: right;\">\n      <th></th>\n      <th>X</th>\n      <th>Y</th>\n      <th>Z</th>\n    </tr>\n  </thead>\n  <tbody>\n    <tr>\n      <th>0</th>\n      <td>-1.232040e+07</td>\n      <td>6.635264e+07</td>\n      <td>-1.180224e+07</td>\n    </tr>\n  </tbody>\n</table>\n</div>\n    <div class=\"colab-df-buttons\">\n\n  <div class=\"colab-df-container\">\n    <button class=\"colab-df-convert\" onclick=\"convertToInteractive('df-0c8d9511-4cda-4032-a098-d43064fd3afb')\"\n            title=\"Convert this dataframe to an interactive table.\"\n            style=\"display:none;\">\n\n  <svg xmlns=\"http://www.w3.org/2000/svg\" height=\"24px\" viewBox=\"0 -960 960 960\">\n    <path d=\"M120-120v-720h720v720H120Zm60-500h600v-160H180v160Zm220 220h160v-160H400v160Zm0 220h160v-160H400v160ZM180-400h160v-160H180v160Zm440 0h160v-160H620v160ZM180-180h160v-160H180v160Zm440 0h160v-160H620v160Z\"/>\n  </svg>\n    </button>\n\n  <style>\n    .colab-df-container {\n      display:flex;\n      gap: 12px;\n    }\n\n    .colab-df-convert {\n      background-color: #E8F0FE;\n      border: none;\n      border-radius: 50%;\n      cursor: pointer;\n      display: none;\n      fill: #1967D2;\n      height: 32px;\n      padding: 0 0 0 0;\n      width: 32px;\n    }\n\n    .colab-df-convert:hover {\n      background-color: #E2EBFA;\n      box-shadow: 0px 1px 2px rgba(60, 64, 67, 0.3), 0px 1px 3px 1px rgba(60, 64, 67, 0.15);\n      fill: #174EA6;\n    }\n\n    .colab-df-buttons div {\n      margin-bottom: 4px;\n    }\n\n    [theme=dark] .colab-df-convert {\n      background-color: #3B4455;\n      fill: #D2E3FC;\n    }\n\n    [theme=dark] .colab-df-convert:hover {\n      background-color: #434B5C;\n      box-shadow: 0px 1px 3px 1px rgba(0, 0, 0, 0.15);\n      filter: drop-shadow(0px 1px 2px rgba(0, 0, 0, 0.3));\n      fill: #FFFFFF;\n    }\n  </style>\n\n    <script>\n      const buttonEl =\n        document.querySelector('#df-0c8d9511-4cda-4032-a098-d43064fd3afb button.colab-df-convert');\n      buttonEl.style.display =\n        google.colab.kernel.accessAllowed ? 'block' : 'none';\n\n      async function convertToInteractive(key) {\n        const element = document.querySelector('#df-0c8d9511-4cda-4032-a098-d43064fd3afb');\n        const dataTable =\n          await google.colab.kernel.invokeFunction('convertToInteractive',\n                                                    [key], {});\n        if (!dataTable) return;\n\n        const docLinkHtml = 'Like what you see? Visit the ' +\n          '<a target=\"_blank\" href=https://colab.research.google.com/notebooks/data_table.ipynb>data table notebook</a>'\n          + ' to learn more about interactive tables.';\n        element.innerHTML = '';\n        dataTable['output_type'] = 'display_data';\n        await google.colab.output.renderOutput(dataTable, element);\n        const docLink = document.createElement('div');\n        docLink.innerHTML = docLinkHtml;\n        element.appendChild(docLink);\n      }\n    </script>\n  </div>\n\n\n    </div>\n  </div>\n",
                  "application/vnd.google.colaboratory.intrinsic+json": {
                    "type": "dataframe",
                    "summary": "{\n  \"name\": \"    viewer\",\n  \"rows\": 1,\n  \"fields\": [\n    {\n      \"column\": \"X\",\n      \"properties\": {\n        \"dtype\": \"number\",\n        \"std\": null,\n        \"min\": -12320398.055475213,\n        \"max\": -12320398.055475213,\n        \"num_unique_values\": 1,\n        \"samples\": [\n          -12320398.055475213\n        ],\n        \"semantic_type\": \"\",\n        \"description\": \"\"\n      }\n    },\n    {\n      \"column\": \"Y\",\n      \"properties\": {\n        \"dtype\": \"number\",\n        \"std\": null,\n        \"min\": 66352641.87604139,\n        \"max\": 66352641.87604139,\n        \"num_unique_values\": 1,\n        \"samples\": [\n          66352641.87604139\n        ],\n        \"semantic_type\": \"\",\n        \"description\": \"\"\n      }\n    },\n    {\n      \"column\": \"Z\",\n      \"properties\": {\n        \"dtype\": \"number\",\n        \"std\": null,\n        \"min\": -11802238.93887249,\n        \"max\": -11802238.93887249,\n        \"num_unique_values\": 1,\n        \"samples\": [\n          -11802238.93887249\n        ],\n        \"semantic_type\": \"\",\n        \"description\": \"\"\n      }\n    }\n  ]\n}"
                  }
                },
                "metadata": {}
              },
              {
                "output_type": "stream",
                "name": "stdout",
                "text": [
                  "\n",
                  "\n",
                  "Standard Deviation:\n"
                ]
              },
              {
                "output_type": "display_data",
                "data": {
                  "text/plain": "              X             Y             Z\n0  5.357391e+08  5.411201e+08  6.261671e+08",
                  "text/html": "\n  <div id=\"df-4ea200f3-e997-47b3-afdb-edb4edf1537d\" class=\"colab-df-container\">\n    <div>\n<style scoped>\n    .dataframe tbody tr th:only-of-type {\n        vertical-align: middle;\n    }\n\n    .dataframe tbody tr th {\n        vertical-align: top;\n    }\n\n    .dataframe thead th {\n        text-align: right;\n    }\n</style>\n<table border=\"1\" class=\"dataframe\">\n  <thead>\n    <tr style=\"text-align: right;\">\n      <th></th>\n      <th>X</th>\n      <th>Y</th>\n      <th>Z</th>\n    </tr>\n  </thead>\n  <tbody>\n    <tr>\n      <th>0</th>\n      <td>5.357391e+08</td>\n      <td>5.411201e+08</td>\n      <td>6.261671e+08</td>\n    </tr>\n  </tbody>\n</table>\n</div>\n    <div class=\"colab-df-buttons\">\n\n  <div class=\"colab-df-container\">\n    <button class=\"colab-df-convert\" onclick=\"convertToInteractive('df-4ea200f3-e997-47b3-afdb-edb4edf1537d')\"\n            title=\"Convert this dataframe to an interactive table.\"\n            style=\"display:none;\">\n\n  <svg xmlns=\"http://www.w3.org/2000/svg\" height=\"24px\" viewBox=\"0 -960 960 960\">\n    <path d=\"M120-120v-720h720v720H120Zm60-500h600v-160H180v160Zm220 220h160v-160H400v160Zm0 220h160v-160H400v160ZM180-400h160v-160H180v160Zm440 0h160v-160H620v160ZM180-180h160v-160H180v160Zm440 0h160v-160H620v160Z\"/>\n  </svg>\n    </button>\n\n  <style>\n    .colab-df-container {\n      display:flex;\n      gap: 12px;\n    }\n\n    .colab-df-convert {\n      background-color: #E8F0FE;\n      border: none;\n      border-radius: 50%;\n      cursor: pointer;\n      display: none;\n      fill: #1967D2;\n      height: 32px;\n      padding: 0 0 0 0;\n      width: 32px;\n    }\n\n    .colab-df-convert:hover {\n      background-color: #E2EBFA;\n      box-shadow: 0px 1px 2px rgba(60, 64, 67, 0.3), 0px 1px 3px 1px rgba(60, 64, 67, 0.15);\n      fill: #174EA6;\n    }\n\n    .colab-df-buttons div {\n      margin-bottom: 4px;\n    }\n\n    [theme=dark] .colab-df-convert {\n      background-color: #3B4455;\n      fill: #D2E3FC;\n    }\n\n    [theme=dark] .colab-df-convert:hover {\n      background-color: #434B5C;\n      box-shadow: 0px 1px 3px 1px rgba(0, 0, 0, 0.15);\n      filter: drop-shadow(0px 1px 2px rgba(0, 0, 0, 0.3));\n      fill: #FFFFFF;\n    }\n  </style>\n\n    <script>\n      const buttonEl =\n        document.querySelector('#df-4ea200f3-e997-47b3-afdb-edb4edf1537d button.colab-df-convert');\n      buttonEl.style.display =\n        google.colab.kernel.accessAllowed ? 'block' : 'none';\n\n      async function convertToInteractive(key) {\n        const element = document.querySelector('#df-4ea200f3-e997-47b3-afdb-edb4edf1537d');\n        const dataTable =\n          await google.colab.kernel.invokeFunction('convertToInteractive',\n                                                    [key], {});\n        if (!dataTable) return;\n\n        const docLinkHtml = 'Like what you see? Visit the ' +\n          '<a target=\"_blank\" href=https://colab.research.google.com/notebooks/data_table.ipynb>data table notebook</a>'\n          + ' to learn more about interactive tables.';\n        element.innerHTML = '';\n        dataTable['output_type'] = 'display_data';\n        await google.colab.output.renderOutput(dataTable, element);\n        const docLink = document.createElement('div');\n        docLink.innerHTML = docLinkHtml;\n        element.appendChild(docLink);\n      }\n    </script>\n  </div>\n\n\n    </div>\n  </div>\n",
                  "application/vnd.google.colaboratory.intrinsic+json": {
                    "type": "dataframe",
                    "summary": "{\n  \"name\": \"    viewer\",\n  \"rows\": 1,\n  \"fields\": [\n    {\n      \"column\": \"X\",\n      \"properties\": {\n        \"dtype\": \"number\",\n        \"std\": null,\n        \"min\": 535739053.0968425,\n        \"max\": 535739053.0968425,\n        \"num_unique_values\": 1,\n        \"samples\": [\n          535739053.0968425\n        ],\n        \"semantic_type\": \"\",\n        \"description\": \"\"\n      }\n    },\n    {\n      \"column\": \"Y\",\n      \"properties\": {\n        \"dtype\": \"number\",\n        \"std\": null,\n        \"min\": 541120073.4744085,\n        \"max\": 541120073.4744085,\n        \"num_unique_values\": 1,\n        \"samples\": [\n          541120073.4744085\n        ],\n        \"semantic_type\": \"\",\n        \"description\": \"\"\n      }\n    },\n    {\n      \"column\": \"Z\",\n      \"properties\": {\n        \"dtype\": \"number\",\n        \"std\": null,\n        \"min\": 626167062.9424993,\n        \"max\": 626167062.9424993,\n        \"num_unique_values\": 1,\n        \"samples\": [\n          626167062.9424993\n        ],\n        \"semantic_type\": \"\",\n        \"description\": \"\"\n      }\n    }\n  ]\n}"
                  }
                },
                "metadata": {}
              },
              {
                "output_type": "stream",
                "name": "stdout",
                "text": [
                  "\n",
                  "\n",
                  "Skewness:\n"
                ]
              },
              {
                "output_type": "display_data",
                "data": {
                  "text/plain": "array([ 0.07078255, -0.07841735,  0.01902127])"
                },
                "metadata": {}
              },
              {
                "output_type": "stream",
                "name": "stdout",
                "text": [
                  "\n",
                  "\n",
                  "Kurtosis:\n"
                ]
              },
              {
                "output_type": "display_data",
                "data": {
                  "text/plain": "array([-1.14177291, -1.10751557, -1.3475118 ])"
                },
                "metadata": {}
              },
              {
                "output_type": "stream",
                "name": "stdout",
                "text": [
                  "\n",
                  "\n",
                  "Correlation Coefficients:\n"
                ]
              },
              {
                "output_type": "display_data",
                "data": {
                  "text/plain": "          X         Y         Z\nX  1.000000 -0.022712 -0.023400\nY -0.022712  1.000000  0.073818\nZ -0.023400  0.073818  1.000000",
                  "text/html": "\n  <div id=\"df-31d8bb47-b284-493f-ae1a-61a2eab1d4e8\" class=\"colab-df-container\">\n    <div>\n<style scoped>\n    .dataframe tbody tr th:only-of-type {\n        vertical-align: middle;\n    }\n\n    .dataframe tbody tr th {\n        vertical-align: top;\n    }\n\n    .dataframe thead th {\n        text-align: right;\n    }\n</style>\n<table border=\"1\" class=\"dataframe\">\n  <thead>\n    <tr style=\"text-align: right;\">\n      <th></th>\n      <th>X</th>\n      <th>Y</th>\n      <th>Z</th>\n    </tr>\n  </thead>\n  <tbody>\n    <tr>\n      <th>X</th>\n      <td>1.000000</td>\n      <td>-0.022712</td>\n      <td>-0.023400</td>\n    </tr>\n    <tr>\n      <th>Y</th>\n      <td>-0.022712</td>\n      <td>1.000000</td>\n      <td>0.073818</td>\n    </tr>\n    <tr>\n      <th>Z</th>\n      <td>-0.023400</td>\n      <td>0.073818</td>\n      <td>1.000000</td>\n    </tr>\n  </tbody>\n</table>\n</div>\n    <div class=\"colab-df-buttons\">\n\n  <div class=\"colab-df-container\">\n    <button class=\"colab-df-convert\" onclick=\"convertToInteractive('df-31d8bb47-b284-493f-ae1a-61a2eab1d4e8')\"\n            title=\"Convert this dataframe to an interactive table.\"\n            style=\"display:none;\">\n\n  <svg xmlns=\"http://www.w3.org/2000/svg\" height=\"24px\" viewBox=\"0 -960 960 960\">\n    <path d=\"M120-120v-720h720v720H120Zm60-500h600v-160H180v160Zm220 220h160v-160H400v160Zm0 220h160v-160H400v160ZM180-400h160v-160H180v160Zm440 0h160v-160H620v160ZM180-180h160v-160H180v160Zm440 0h160v-160H620v160Z\"/>\n  </svg>\n    </button>\n\n  <style>\n    .colab-df-container {\n      display:flex;\n      gap: 12px;\n    }\n\n    .colab-df-convert {\n      background-color: #E8F0FE;\n      border: none;\n      border-radius: 50%;\n      cursor: pointer;\n      display: none;\n      fill: #1967D2;\n      height: 32px;\n      padding: 0 0 0 0;\n      width: 32px;\n    }\n\n    .colab-df-convert:hover {\n      background-color: #E2EBFA;\n      box-shadow: 0px 1px 2px rgba(60, 64, 67, 0.3), 0px 1px 3px 1px rgba(60, 64, 67, 0.15);\n      fill: #174EA6;\n    }\n\n    .colab-df-buttons div {\n      margin-bottom: 4px;\n    }\n\n    [theme=dark] .colab-df-convert {\n      background-color: #3B4455;\n      fill: #D2E3FC;\n    }\n\n    [theme=dark] .colab-df-convert:hover {\n      background-color: #434B5C;\n      box-shadow: 0px 1px 3px 1px rgba(0, 0, 0, 0.15);\n      filter: drop-shadow(0px 1px 2px rgba(0, 0, 0, 0.3));\n      fill: #FFFFFF;\n    }\n  </style>\n\n    <script>\n      const buttonEl =\n        document.querySelector('#df-31d8bb47-b284-493f-ae1a-61a2eab1d4e8 button.colab-df-convert');\n      buttonEl.style.display =\n        google.colab.kernel.accessAllowed ? 'block' : 'none';\n\n      async function convertToInteractive(key) {\n        const element = document.querySelector('#df-31d8bb47-b284-493f-ae1a-61a2eab1d4e8');\n        const dataTable =\n          await google.colab.kernel.invokeFunction('convertToInteractive',\n                                                    [key], {});\n        if (!dataTable) return;\n\n        const docLinkHtml = 'Like what you see? Visit the ' +\n          '<a target=\"_blank\" href=https://colab.research.google.com/notebooks/data_table.ipynb>data table notebook</a>'\n          + ' to learn more about interactive tables.';\n        element.innerHTML = '';\n        dataTable['output_type'] = 'display_data';\n        await google.colab.output.renderOutput(dataTable, element);\n        const docLink = document.createElement('div');\n        docLink.innerHTML = docLinkHtml;\n        element.appendChild(docLink);\n      }\n    </script>\n  </div>\n\n\n<div id=\"df-9cac50d6-1b6f-4808-bc15-1bcd94b6f64c\">\n  <button class=\"colab-df-quickchart\" onclick=\"quickchart('df-9cac50d6-1b6f-4808-bc15-1bcd94b6f64c')\"\n            title=\"Suggest charts\"\n            style=\"display:none;\">\n\n<svg xmlns=\"http://www.w3.org/2000/svg\" height=\"24px\"viewBox=\"0 0 24 24\"\n     width=\"24px\">\n    <g>\n        <path d=\"M19 3H5c-1.1 0-2 .9-2 2v14c0 1.1.9 2 2 2h14c1.1 0 2-.9 2-2V5c0-1.1-.9-2-2-2zM9 17H7v-7h2v7zm4 0h-2V7h2v10zm4 0h-2v-4h2v4z\"/>\n    </g>\n</svg>\n  </button>\n\n<style>\n  .colab-df-quickchart {\n      --bg-color: #E8F0FE;\n      --fill-color: #1967D2;\n      --hover-bg-color: #E2EBFA;\n      --hover-fill-color: #174EA6;\n      --disabled-fill-color: #AAA;\n      --disabled-bg-color: #DDD;\n  }\n\n  [theme=dark] .colab-df-quickchart {\n      --bg-color: #3B4455;\n      --fill-color: #D2E3FC;\n      --hover-bg-color: #434B5C;\n      --hover-fill-color: #FFFFFF;\n      --disabled-bg-color: #3B4455;\n      --disabled-fill-color: #666;\n  }\n\n  .colab-df-quickchart {\n    background-color: var(--bg-color);\n    border: none;\n    border-radius: 50%;\n    cursor: pointer;\n    display: none;\n    fill: var(--fill-color);\n    height: 32px;\n    padding: 0;\n    width: 32px;\n  }\n\n  .colab-df-quickchart:hover {\n    background-color: var(--hover-bg-color);\n    box-shadow: 0 1px 2px rgba(60, 64, 67, 0.3), 0 1px 3px 1px rgba(60, 64, 67, 0.15);\n    fill: var(--button-hover-fill-color);\n  }\n\n  .colab-df-quickchart-complete:disabled,\n  .colab-df-quickchart-complete:disabled:hover {\n    background-color: var(--disabled-bg-color);\n    fill: var(--disabled-fill-color);\n    box-shadow: none;\n  }\n\n  .colab-df-spinner {\n    border: 2px solid var(--fill-color);\n    border-color: transparent;\n    border-bottom-color: var(--fill-color);\n    animation:\n      spin 1s steps(1) infinite;\n  }\n\n  @keyframes spin {\n    0% {\n      border-color: transparent;\n      border-bottom-color: var(--fill-color);\n      border-left-color: var(--fill-color);\n    }\n    20% {\n      border-color: transparent;\n      border-left-color: var(--fill-color);\n      border-top-color: var(--fill-color);\n    }\n    30% {\n      border-color: transparent;\n      border-left-color: var(--fill-color);\n      border-top-color: var(--fill-color);\n      border-right-color: var(--fill-color);\n    }\n    40% {\n      border-color: transparent;\n      border-right-color: var(--fill-color);\n      border-top-color: var(--fill-color);\n    }\n    60% {\n      border-color: transparent;\n      border-right-color: var(--fill-color);\n    }\n    80% {\n      border-color: transparent;\n      border-right-color: var(--fill-color);\n      border-bottom-color: var(--fill-color);\n    }\n    90% {\n      border-color: transparent;\n      border-bottom-color: var(--fill-color);\n    }\n  }\n</style>\n\n  <script>\n    async function quickchart(key) {\n      const quickchartButtonEl =\n        document.querySelector('#' + key + ' button');\n      quickchartButtonEl.disabled = true;  // To prevent multiple clicks.\n      quickchartButtonEl.classList.add('colab-df-spinner');\n      try {\n        const charts = await google.colab.kernel.invokeFunction(\n            'suggestCharts', [key], {});\n      } catch (error) {\n        console.error('Error during call to suggestCharts:', error);\n      }\n      quickchartButtonEl.classList.remove('colab-df-spinner');\n      quickchartButtonEl.classList.add('colab-df-quickchart-complete');\n    }\n    (() => {\n      let quickchartButtonEl =\n        document.querySelector('#df-9cac50d6-1b6f-4808-bc15-1bcd94b6f64c button');\n      quickchartButtonEl.style.display =\n        google.colab.kernel.accessAllowed ? 'block' : 'none';\n    })();\n  </script>\n</div>\n\n    </div>\n  </div>\n",
                  "application/vnd.google.colaboratory.intrinsic+json": {
                    "type": "dataframe",
                    "summary": "{\n  \"name\": \"    viewer\",\n  \"rows\": 3,\n  \"fields\": [\n    {\n      \"column\": \"X\",\n      \"properties\": {\n        \"dtype\": \"number\",\n        \"std\": 0.5906619490089136,\n        \"min\": -0.023400454179154057,\n        \"max\": 1.0,\n        \"num_unique_values\": 3,\n        \"samples\": [\n          1.0,\n          -0.022712210129555318,\n          -0.023400454179154057\n        ],\n        \"semantic_type\": \"\",\n        \"description\": \"\"\n      }\n    },\n    {\n      \"column\": \"Y\",\n      \"properties\": {\n        \"dtype\": \"number\",\n        \"std\": 0.5646638889927272,\n        \"min\": -0.022712210129555318,\n        \"max\": 1.0,\n        \"num_unique_values\": 3,\n        \"samples\": [\n          -0.022712210129555318,\n          1.0,\n          0.07381775781737689\n        ],\n        \"semantic_type\": \"\",\n        \"description\": \"\"\n      }\n    },\n    {\n      \"column\": \"Z\",\n      \"properties\": {\n        \"dtype\": \"number\",\n        \"std\": 0.5648913488586886,\n        \"min\": -0.023400454179154057,\n        \"max\": 1.0,\n        \"num_unique_values\": 3,\n        \"samples\": [\n          -0.023400454179154057,\n          0.07381775781737689,\n          1.0\n        ],\n        \"semantic_type\": \"\",\n        \"description\": \"\"\n      }\n    }\n  ]\n}"
                  }
                },
                "metadata": {}
              },
              {
                "output_type": "stream",
                "name": "stdout",
                "text": [
                  "\n",
                  "\n"
                ]
              }
            ]
          }
        },
        "f31afa1c009147a48be8a73337439245": {
          "model_module": "@jupyter-widgets/base",
          "model_name": "LayoutModel",
          "model_module_version": "1.2.0",
          "state": {
            "_model_module": "@jupyter-widgets/base",
            "_model_module_version": "1.2.0",
            "_model_name": "LayoutModel",
            "_view_count": null,
            "_view_module": "@jupyter-widgets/base",
            "_view_module_version": "1.2.0",
            "_view_name": "LayoutView",
            "align_content": null,
            "align_items": null,
            "align_self": null,
            "border": null,
            "bottom": null,
            "display": null,
            "flex": null,
            "flex_flow": null,
            "grid_area": null,
            "grid_auto_columns": null,
            "grid_auto_flow": null,
            "grid_auto_rows": null,
            "grid_column": null,
            "grid_gap": null,
            "grid_row": null,
            "grid_template_areas": null,
            "grid_template_columns": null,
            "grid_template_rows": null,
            "height": null,
            "justify_content": null,
            "justify_items": null,
            "left": null,
            "margin": null,
            "max_height": null,
            "max_width": null,
            "min_height": null,
            "min_width": null,
            "object_fit": null,
            "object_position": null,
            "order": null,
            "overflow": null,
            "overflow_x": null,
            "overflow_y": null,
            "padding": null,
            "right": null,
            "top": null,
            "visibility": null,
            "width": null
          }
        },
        "4b855a4c12fb460f8610bb0dcb054a61": {
          "model_module": "@jupyter-widgets/base",
          "model_name": "LayoutModel",
          "model_module_version": "1.2.0",
          "state": {
            "_model_module": "@jupyter-widgets/base",
            "_model_module_version": "1.2.0",
            "_model_name": "LayoutModel",
            "_view_count": null,
            "_view_module": "@jupyter-widgets/base",
            "_view_module_version": "1.2.0",
            "_view_name": "LayoutView",
            "align_content": null,
            "align_items": null,
            "align_self": null,
            "border": null,
            "bottom": null,
            "display": null,
            "flex": null,
            "flex_flow": null,
            "grid_area": null,
            "grid_auto_columns": null,
            "grid_auto_flow": null,
            "grid_auto_rows": null,
            "grid_column": null,
            "grid_gap": null,
            "grid_row": null,
            "grid_template_areas": null,
            "grid_template_columns": null,
            "grid_template_rows": null,
            "height": null,
            "justify_content": null,
            "justify_items": null,
            "left": null,
            "margin": null,
            "max_height": null,
            "max_width": null,
            "min_height": null,
            "min_width": null,
            "object_fit": null,
            "object_position": null,
            "order": null,
            "overflow": null,
            "overflow_x": null,
            "overflow_y": null,
            "padding": null,
            "right": null,
            "top": null,
            "visibility": null,
            "width": null
          }
        }
      }
    }
  },
  "cells": [
    {
      "cell_type": "markdown",
      "metadata": {
        "id": "view-in-github",
        "colab_type": "text"
      },
      "source": [
        "<a href=\"https://colab.research.google.com/github/LoQiseaking69/TimeRing-/blob/main/rm_ringltheory.ipynb\" target=\"_parent\"><img src=\"https://colab.research.google.com/assets/colab-badge.svg\" alt=\"Open In Colab\"/></a>"
      ]
    },
    {
      "cell_type": "code",
      "source": [
        "import numpy as np\n",
        "import matplotlib.pyplot as plt\n",
        "import seaborn as sns\n",
        "from mpl_toolkits.mplot3d import Axes3D\n",
        "from ipywidgets import interact, Output, VBox, FloatSlider\n",
        "import pandas as pd\n",
        "from scipy.stats import skew, kurtosis\n",
        "\n",
        "class InteractiveRingLaserViewer:\n",
        "    def __init__(self, wavelength=1550e-9, beam_power=1e-3, ring_radius=1e9, num_detectors=360, c=299792458, G=6.67430e-11):\n",
        "        self.wavelength = wavelength\n",
        "        self.beam_power = beam_power\n",
        "        self.ring_radius = ring_radius\n",
        "        self.num_detectors = num_detectors\n",
        "        self.c = c\n",
        "        self.G = G\n",
        "\n",
        "        self.output = Output()\n",
        "        self.laser_energy_slider = FloatSlider(min=0, max=1e6, step=1, value=1e5, description='Laser Energy:')\n",
        "        self.laser_radius_slider = FloatSlider(min=0, max=1e6, step=1, value=1e5, description='Laser Radius:')\n",
        "        self.angular_momentum_slider = FloatSlider(min=0, max=1e6, step=1, value=1e5, description='Angular Momentum:')\n",
        "        self.pulse_duration_slider = FloatSlider(min=0, max=1e6, step=1, value=1e5, description='Pulse Duration:')\n",
        "\n",
        "        self.setup_interactive()\n",
        "\n",
        "    def setup_interactive(self):\n",
        "        @interact(laser_energy=self.laser_energy_slider,\n",
        "                  laser_radius=self.laser_radius_slider,\n",
        "                  angular_momentum=self.angular_momentum_slider,\n",
        "                  pulse_duration=self.pulse_duration_slider)\n",
        "        def interactive_plot(laser_energy, laser_radius, angular_momentum, pulse_duration):\n",
        "            with self.output:\n",
        "                self.output.clear_output(wait=True)\n",
        "                try:\n",
        "                    adjusted_pulse_duration = self.calculate_adjusted_pulse_duration(laser_energy, laser_radius, angular_momentum, pulse_duration)\n",
        "                    print(\"Adjusted pulse duration:\", adjusted_pulse_duration)\n",
        "                    point_cloud = self.generate_points(laser_energy, laser_radius, angular_momentum, pulse_duration)\n",
        "                    self.visualize_point_cloud(point_cloud)\n",
        "                    self.display_metrics(point_cloud)\n",
        "                except Exception as e:\n",
        "                    print(f\"An error occurred: {e}\")\n",
        "\n",
        "    def calculate_adjusted_pulse_duration(self, laser_energy, laser_radius, angular_momentum, pulse_duration):\n",
        "        r = np.linalg.norm([laser_energy, laser_radius, angular_momentum])\n",
        "        schwarzschild_radius = 2 * self.G * r / (self.c ** 2)\n",
        "        dilation_factor = np.sqrt(1 - (schwarzschild_radius / r))\n",
        "        return self.wavelength / (self.c * dilation_factor)\n",
        "\n",
        "    def generate_points(self, laser_energy, laser_radius, angular_momentum, pulse_duration):\n",
        "        num_points = 100\n",
        "        points = np.random.uniform(low=-1e9, high=1e9, size=(num_points, 3))\n",
        "        return points\n",
        "\n",
        "    def visualize_point_cloud(self, point_cloud):\n",
        "        fig = plt.figure(figsize=(10, 6))\n",
        "        ax = fig.add_subplot(111, projection='3d')\n",
        "        ax.scatter(point_cloud[:, 0], point_cloud[:, 1], point_cloud[:, 2], c='b', marker='.')\n",
        "        ax.set_xlabel('X')\n",
        "        ax.set_ylabel('Y')\n",
        "        ax.set_zlabel('Z')\n",
        "        ax.set_title(\"Ring Laser Time Viewer Point Cloud\")\n",
        "        plt.show()\n",
        "\n",
        "    def display_metrics(self, point_cloud):\n",
        "        df = pd.DataFrame(point_cloud, columns=['X', 'Y', 'Z'])\n",
        "\n",
        "        # Calculate metrics\n",
        "        metrics = {\n",
        "            'Mean': df.mean(),\n",
        "            'Standard Deviation': df.std(),\n",
        "            'Skewness': skew(df),\n",
        "            'Kurtosis': kurtosis(df),\n",
        "            'Correlation Coefficients': df.corr()\n",
        "        }\n",
        "\n",
        "        # Display metrics in a tabular format\n",
        "        for name, metric in metrics.items():\n",
        "            if isinstance(metric, pd.Series):\n",
        "                metric = pd.DataFrame(metric).T\n",
        "            print(f\"{name}:\")\n",
        "            display(metric)\n",
        "            print(\"\\n\")\n",
        "\n",
        "    def display(self):\n",
        "        display(VBox([self.output]))\n",
        "\n",
        "# Usage\n",
        "if __name__ == \"__main__\":\n",
        "    viewer = InteractiveRingLaserViewer()\n",
        "    viewer.display()"
      ],
      "metadata": {
        "id": "x1iP0r-Ju92_",
        "outputId": "806e17e8-76bf-4bff-e129-6632f78f0ebb",
        "colab": {
          "base_uri": "https://localhost:8080/",
          "height": 1000,
          "referenced_widgets": [
            "78ffe875132740338ef48b50ad1cbb95",
            "808c4a4d3d3949e6b515d9f2690ab028",
            "057f9c0c3cb4411fa65abf0edf34bf21",
            "8e544b1cb3c24bd7b89553f81463582a",
            "274e67868115483b97c8213b2b970e08",
            "c199e87a5d4843639c663f927d4eb37c",
            "bbfefdd166cc4ddeab013edf94a60f84",
            "1727f7d8d7ec4fd29ae08780a6910749",
            "e568576dc136430bae8043999e8a8b1b",
            "c834a55aba6247aba4894ae2da0b6151",
            "b15ef67ca6f7474ea14739acb1421695",
            "1c7a641f7ca7471da3910a6d28a354b0",
            "da1d67d049e540829e976357267003c4",
            "7767a2b9c963455396f1bdbd537e70ef",
            "20937067dea4455fb1347ebd6b2c73ce",
            "445039aed8a64512979176d0a45e4d62",
            "ea0d695dd6994583aca8451cbf41b6b0",
            "a1ba11c3d0764496b3fca353a5ba6e53",
            "f31afa1c009147a48be8a73337439245",
            "4b855a4c12fb460f8610bb0dcb054a61"
          ]
        }
      },
      "execution_count": 1,
      "outputs": [
        {
          "output_type": "display_data",
          "data": {
            "text/plain": [
              "interactive(children=(FloatSlider(value=100000.0, description='Laser Energy:', max=1000000.0, step=1.0), Float…"
            ],
            "application/vnd.jupyter.widget-view+json": {
              "version_major": 2,
              "version_minor": 0,
              "model_id": "78ffe875132740338ef48b50ad1cbb95"
            }
          },
          "metadata": {}
        },
        {
          "output_type": "display_data",
          "data": {
            "text/plain": [
              "VBox(children=(Output(),))"
            ],
            "application/vnd.jupyter.widget-view+json": {
              "version_major": 2,
              "version_minor": 0,
              "model_id": "ea0d695dd6994583aca8451cbf41b6b0"
            }
          },
          "metadata": {}
        }
      ]
    }
  ]
}